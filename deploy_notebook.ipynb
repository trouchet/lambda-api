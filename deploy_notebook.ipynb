{
 "cells": [
  {
   "cell_type": "code",
   "execution_count": null,
   "id": "03427fa7",
   "metadata": {},
   "outputs": [],
   "source": [
    "!pip install boto3"
   ]
  },
  {
   "cell_type": "code",
   "execution_count": null,
   "id": "bcd8b614",
   "metadata": {},
   "outputs": [],
   "source": [
    "import os\n",
    "import boto3\n",
    "import json\n",
    "import requests\n",
    "\n",
    "import sys\n",
    "sys.path.append(os.getcwd())"
   ]
  },
  {
   "cell_type": "markdown",
   "id": "b81aa2b7",
   "metadata": {},
   "source": [
    "# Utilitary build functions"
   ]
  },
  {
   "cell_type": "markdown",
   "id": "62a365fe",
   "metadata": {},
   "source": [
    "# Information for communication protocols"
   ]
  },
  {
   "cell_type": "code",
   "execution_count": null,
   "id": "8e356e0c",
   "metadata": {},
   "outputs": [],
   "source": [
    "# Account\n",
    "account_id = '060004687794'\n",
    "\n",
    "# Server\n",
    "region = \"sa-east-1\"\n",
    "\n",
    "# Platform\n",
    "ecr_image_name = \"serverless-example\"\n",
    "tag='latest'\n",
    "\n",
    "# API\n",
    "endpoint = \"predict\"\n",
    "method_verb='POST'\n",
    "stage = \"test\"\n",
    "\n",
    "# Ellaborate information\n",
    "tagged_image_uri=f\"{ecr_image_name}:latest\"\n",
    "password_stdin=f\"{account_id}.dkr.ecr.{region}.amazonaws.com\"\n",
    "\n",
    "# Specify the role name and trust policy for the Lambda service\n",
    "role_name = 'lambda-exec-role'\n",
    "\n",
    "trust_policy = {\n",
    "    'Version': '2012-10-17',\n",
    "    'Statement': [\n",
    "        {\n",
    "            'Effect': 'Allow',\n",
    "            'Principal': {'Service': 'lambda.amazonaws.com'},\n",
    "            'Action': 'sts:AssumeRole'\n",
    "        }\n",
    "    ]\n",
    "}\n",
    "\n",
    "policy_arn = 'arn:aws:iam::aws:policy/service-role/AWSLambdaBasicExecutionRole'\n",
    "\n",
    "# Rate limits: Harsh since this will be public facing\n",
    "# Quota: Low daily limits for the same reason\n",
    "usage_constraints = {\n",
    "    'rate_limits': {\n",
    "        'burstLimit': 10,\n",
    "        'rateLimit': 10.0\n",
    "    },\n",
    "    'quota': {\n",
    "        'limit': 100,\n",
    "        'period': 'DAY'\n",
    "    }\n",
    "}\n"
   ]
  },
  {
   "cell_type": "code",
   "execution_count": null,
   "id": "b5980f89",
   "metadata": {},
   "outputs": [],
   "source": [
    "# Function description\n",
    "func_description='SKLearn predict Lambda function'\n",
    "\n",
    "# Function name (not public facing)\n",
    "function_name = f'lambda-fn-{ecr_image_name}'"
   ]
  },
  {
   "cell_type": "markdown",
   "id": "234bc9e0",
   "metadata": {},
   "source": [
    "# Clients"
   ]
  },
  {
   "cell_type": "code",
   "execution_count": null,
   "id": "f223d63e",
   "metadata": {},
   "outputs": [],
   "source": [
    "# Set up the IAM client\n",
    "iam_client = boto3.client('iam', region_name=region)\n",
    "\n",
    "# Set up the Lambda client\n",
    "lambda_client = boto3.client('lambda', region_name=region)\n",
    "\n",
    "# Set up the API Gateway client\n",
    "gateway_client = boto3.client('apigateway', region_name=region)"
   ]
  },
  {
   "cell_type": "markdown",
   "id": "555cfc08",
   "metadata": {},
   "source": [
    "# Development steps\n",
    "\n",
    "- IAM role image handling;\n",
    "- ECR image\n",
    "- Lambda function creation;\n",
    "- API Gateway"
   ]
  },
  {
   "cell_type": "markdown",
   "id": "81bcb91b",
   "metadata": {},
   "source": [
    "## IAM Role Image Handling"
   ]
  },
  {
   "cell_type": "markdown",
   "id": "4b46ce62",
   "metadata": {},
   "source": [
    "The first step: create a user on IAM with below permissions:\n",
    "\n",
    "- **IAMUserChangePassword**: a default permission to change password \n",
    "- **IAMFullAccess**: Allows IAM management\n",
    "- **AmazonEC2ContainerRegistryFullAccess**: Allows uploading image to ECR\n",
    "- **AWSLambda_FullAccess**: Allows access to specific Lambda function given a role \n",
    "- **AmazonAPIGatewayAdministrator**: Allows access to specific API Gateway handling \n",
    "\n"
   ]
  },
  {
   "cell_type": "code",
   "execution_count": null,
   "id": "2960c323",
   "metadata": {},
   "outputs": [],
   "source": [
    "from deploy_utils.iam_utils import try_attach_role_policy\n",
    "\n",
    "# The id \"role_arn\" will be used on lambda deployment\n",
    "role_arn = try_attach_role_policy(iam_client, role_name, policy_arn, trust_policy)\n",
    "\n",
    "role_arn"
   ]
  },
  {
   "cell_type": "markdown",
   "id": "cbbd440a",
   "metadata": {},
   "source": [
    "## ECR image"
   ]
  },
  {
   "cell_type": "markdown",
   "id": "bf05f47b",
   "metadata": {},
   "source": [
    "Run 2 cells below with key stroke _Shift+Enter_ to upload the docker image to ECR."
   ]
  },
  {
   "cell_type": "code",
   "execution_count": null,
   "id": "a8f4dba1",
   "metadata": {
    "scrolled": true
   },
   "outputs": [],
   "source": [
    "from deploy_utils.ecr_utils import pipe_push_image\n",
    "\n",
    "pipe_push_image(account_id, region, ecr_image_name, tag)"
   ]
  },
  {
   "cell_type": "markdown",
   "id": "130dc589",
   "metadata": {},
   "source": [
    "# Lambda function creation"
   ]
  },
  {
   "cell_type": "markdown",
   "id": "a63b4028",
   "metadata": {},
   "source": [
    "Run 2 cells below with key stroke _Shift+Enter_ to generate a Lambda Function based on Docker Image"
   ]
  },
  {
   "cell_type": "markdown",
   "id": "305c18e4",
   "metadata": {},
   "source": [
    "### Create function"
   ]
  },
  {
   "cell_type": "code",
   "execution_count": null,
   "id": "1cd6a1eb",
   "metadata": {},
   "outputs": [],
   "source": [
    "from deploy_utils.ecr_utils import build_ecr_url\n",
    "from deploy_utils.lambda_utils import delete_function, create_function\n",
    "\n",
    "# Retrieve (if already exists) or create a new Lambda function\n",
    "routed_url = build_ecr_url(account_id, region, ecr_image_name, tag)\n",
    "deletion_response = delete_function(lambda_client, function_name)\n",
    "create_response = create_function(lambda_client, function_name, func_description, routed_url, role_arn)\n",
    "\n",
    "create_response"
   ]
  },
  {
   "cell_type": "markdown",
   "id": "f1c32e87",
   "metadata": {},
   "source": [
    "### Get function"
   ]
  },
  {
   "cell_type": "code",
   "execution_count": null,
   "id": "85eac6fb",
   "metadata": {},
   "outputs": [],
   "source": [
    "from deploy_utils.lambda_utils import get_function\n",
    "\n",
    "get_response = get_function(lambda_client, function_name)\n",
    "\n",
    "get_response"
   ]
  },
  {
   "cell_type": "markdown",
   "id": "1db0e723",
   "metadata": {},
   "source": [
    "### Test function"
   ]
  },
  {
   "cell_type": "code",
   "execution_count": null,
   "id": "c65da515",
   "metadata": {},
   "outputs": [],
   "source": [
    "from json import dumps, loads\n",
    "\n",
    "# Prepare the event to pass to the Lambda function\n",
    "example=[1, 2, 3, 4, 5]\n",
    "\n",
    "# Transform into json format\n",
    "payload=dumps({\"body\": example})\n",
    "\n",
    "# Invoke the Lambda function\n",
    "response = lambda_client.invoke(\n",
    "    FunctionName=function_name,\n",
    "    InvocationType='RequestResponse',\n",
    "    Payload=payload\n",
    ")\n",
    "\n",
    "# Get the response from the Lambda function\n",
    "result = loads(response['Payload'].read())\n",
    "\n",
    "print(result)"
   ]
  },
  {
   "cell_type": "markdown",
   "id": "33fda8c7",
   "metadata": {},
   "source": [
    "## API Gateway setup"
   ]
  },
  {
   "cell_type": "markdown",
   "id": "6ad18b80",
   "metadata": {},
   "source": [
    "Run the cells below to set the Lambda Function as an Endpoint on API Gateway."
   ]
  },
  {
   "cell_type": "code",
   "execution_count": null,
   "id": "42bb068e",
   "metadata": {},
   "outputs": [],
   "source": [
    "from deploy_utils.api_gateway_utils import deploy_rest_api, build_api_url\n",
    "\n",
    "# Define the name of the API (not public facing)\n",
    "rest_api_name = function_name + '-api'\n",
    "\n",
    "deployment_reponse = deploy_rest_api(\\\n",
    "    gateway_client, lambda_client, \\\n",
    "    account_id, region, \\\n",
    "    function_name, rest_api_name, \\\n",
    "    endpoint, method_verb, \\\n",
    "    usage_constraints, stage \\\n",
    ")\n",
    "\n",
    "deployment_reponse"
   ]
  },
  {
   "cell_type": "code",
   "execution_count": null,
   "id": "5f9cbe4e",
   "metadata": {},
   "outputs": [],
   "source": [
    "rest_api_id=deployment_reponse['rest_api_id']\n",
    "\n",
    "# The URL by default will follow this pattern:\n",
    "api_url = build_api_url(rest_api_id, region, endpoint, stage)\n",
    "\n",
    "print(api_url)\n"
   ]
  },
  {
   "cell_type": "code",
   "execution_count": null,
   "id": "798ed4dc",
   "metadata": {},
   "outputs": [],
   "source": [
    "api_key=deployment_reponse['api_key']\n",
    "rest_api_id=deployment_reponse['rest_api_id']\n",
    "\n",
    "# The URL by default will follow this pattern:\n",
    "api_url = build_api_url(rest_api_id, region, endpoint, stage)\n",
    "\n",
    "print(api_key)\n",
    "print(api_url)\n"
   ]
  },
  {
   "cell_type": "code",
   "execution_count": null,
   "id": "c29513cd",
   "metadata": {},
   "outputs": [],
   "source": [
    "# Prepare the event to pass to the Lambda function\n",
    "example=[1, 2, 3, 4, 5]\n",
    "\n",
    "# Transform into json format\n",
    "payload=json.dumps({\"body\": example})\n",
    "\n",
    "headers = {\n",
    "    'Content-type': 'application/json', \n",
    "    'x-api-key': api_key,\n",
    "}\n",
    "\n",
    "resp = requests.post(api_url, headers=headers, json=example)\n",
    "resp.json()\n"
   ]
  }
 ],
 "metadata": {
  "kernelspec": {
   "display_name": "Python 3 (ipykernel)",
   "language": "python",
   "name": "python3"
  },
  "language_info": {
   "codemirror_mode": {
    "name": "ipython",
    "version": 3
   },
   "file_extension": ".py",
   "mimetype": "text/x-python",
   "name": "python",
   "nbconvert_exporter": "python",
   "pygments_lexer": "ipython3",
   "version": "3.8.10"
  }
 },
 "nbformat": 4,
 "nbformat_minor": 5
}
