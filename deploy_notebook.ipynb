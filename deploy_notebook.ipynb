{
 "cells": [
  {
   "cell_type": "code",
   "execution_count": 1,
   "id": "bcd8b614",
   "metadata": {},
   "outputs": [],
   "source": [
    "import sys\n",
    "import os\n",
    "    \n",
    "sys.path.append(os.getcwd())"
   ]
  },
  {
   "cell_type": "markdown",
   "id": "62a365fe",
   "metadata": {},
   "source": [
    "# Required information"
   ]
  },
  {
   "cell_type": "code",
   "execution_count": 2,
   "id": "712ec893",
   "metadata": {},
   "outputs": [],
   "source": [
    "import os\n",
    "from dotenv import load_dotenv\n",
    "\n",
    "# Load environment variables from .env\n",
    "load_dotenv()\n",
    "\n",
    "# Load environment variables from .env\n",
    "aws_account_id = os.getenv('AWS_ACCOUNT_ID')\n",
    "\n",
    "aws_access_key = os.getenv('AWS_ACCESS_KEY')\n",
    "aws_secret_key = os.getenv('AWS_SECRET_KEY')\n",
    "aws_region = os.getenv('AWS_REGION')\n",
    "\n",
    "s3_bucket_name = os.getenv('S3_BUCKET_NAME')\n",
    "s3_object_key = os.getenv('S3_OBJECT_KEY')\n",
    "\n",
    "## Specify the role name and trust policy for the Lambda service\n",
    "iam_role_name = os.getenv('IAM_ROLE_NAME')"
   ]
  },
  {
   "cell_type": "markdown",
   "id": "3a89dd27",
   "metadata": {},
   "source": [
    "## User-dependent solution variables"
   ]
  },
  {
   "cell_type": "code",
   "execution_count": 3,
   "id": "141cc26a",
   "metadata": {},
   "outputs": [],
   "source": [
    "# User setup\n",
    "\n",
    "# Platform\n",
    "ecr_image_name = \"serverless-example\"\n",
    "\n",
    "# Function description\n",
    "func_description='A test Lambda function'\n",
    "\n",
    "# API\n",
    "endpoint = \"predict\"\n",
    "method_verb='POST'\n",
    "stage_name = \"test\""
   ]
  },
  {
   "cell_type": "markdown",
   "id": "b441cf01",
   "metadata": {},
   "source": [
    "## Protocols and performance"
   ]
  },
  {
   "cell_type": "code",
   "execution_count": 4,
   "id": "2bd5ffe2",
   "metadata": {},
   "outputs": [
    {
     "name": "stdout",
     "output_type": "stream",
     "text": [
      "Loaded JSON:\n",
      "{'Version': '2012-10-17', 'Statement': [{'Effect': 'Allow', 'Principal': {'Service': 'lambda.amazonaws.com'}, 'Action': 'sts:AssumeRole'}]}\n",
      "Loaded JSON:\n",
      "{'rate_limits': {'burstLimit': 10, 'rateLimit': 10.0}, 'quota': {'limit': 100, 'period': 'DAY'}}\n"
     ]
    }
   ],
   "source": [
    "# AWS setup\n",
    "from os import getcwd\n",
    "from deploy_scripts.utils.misc import get_lambda_usage_constraints, get_trust_policy\n",
    "\n",
    "cwd=getcwd()\n",
    "\n",
    "## Specify the path to the JSON file\n",
    "## NOTE: Update with the actual path to your JSON file\n",
    "trust_policy_file_path = cwd+\"/deploy_scripts\"\n",
    "trust_policy = get_trust_policy(trust_policy_file_path)\n",
    "\n",
    "## Rate limits: Harsh since this will be public facing\n",
    "## Quota: Low daily limits for the same reason\n",
    "usage_constraints_file_path = cwd+\"/deploy_scripts\"\n",
    "usage_constraints = get_lambda_usage_constraints(usage_constraints_file_path)\n",
    "\n",
    "## AWS Lambda execution role \n",
    "lambda_policy_arn = 'arn:aws:iam::aws:policy/service-role/AWSLambdaBasicExecutionRole'\n"
   ]
  },
  {
   "cell_type": "markdown",
   "id": "234bc9e0",
   "metadata": {},
   "source": [
    "# Clients"
   ]
  },
  {
   "cell_type": "code",
   "execution_count": 5,
   "id": "f223d63e",
   "metadata": {},
   "outputs": [],
   "source": [
    "import boto3\n",
    "\n",
    "# Set up the IAM client\n",
    "iam_client = boto3.client('iam', region_name=aws_region)\n",
    "\n",
    "# Set up the Lambda client\n",
    "lambda_client = boto3.client('lambda', region_name=aws_region)\n",
    "\n",
    "# Set up the API Gateway client\n",
    "gateway_client = boto3.client('apigateway', region_name=aws_region)"
   ]
  },
  {
   "cell_type": "markdown",
   "id": "9f02843c",
   "metadata": {},
   "source": [
    "# Development steps\n",
    "\n",
    "1. IAM role image handling;\n",
    "2. ECR image\n",
    "3. Lambda function creation;\n",
    "4. API Gateway"
   ]
  },
  {
   "cell_type": "markdown",
   "id": "81bcb91b",
   "metadata": {},
   "source": [
    "## IAM Role Image Handling"
   ]
  },
  {
   "cell_type": "markdown",
   "id": "4b46ce62",
   "metadata": {},
   "source": [
    "The first step: create a user on IAM with below permissions:\n",
    "\n",
    "- **IAMUserChangePassword**: a default permission to change password \n",
    "- **IAMFullAccess**: Allows IAM management\n",
    "- **AmazonEC2ContainerRegistryFullAccess**: Allows uploading image to ECR\n",
    "- **AWSLambda_FullAccess**: Allows access to specific Lambda function given a role \n",
    "- **AmazonAPIGatewayAdministrator**: Allows access to specific API Gateway handling \n",
    "\n"
   ]
  },
  {
   "cell_type": "code",
   "execution_count": null,
   "id": "2960c323",
   "metadata": {},
   "outputs": [],
   "source": [
    "from deploy_scripts.utils.iam_utils import try_attach_role_policy\n",
    "\n",
    "# The id \"role_arn\" will be used on lambda deployment\n",
    "role_arn = try_attach_role_policy(iam_client, iam_role_name, lambda_policy_arn, trust_policy)\n",
    "\n",
    "role_arn"
   ]
  },
  {
   "cell_type": "markdown",
   "id": "cbbd440a",
   "metadata": {},
   "source": [
    "## ECR image"
   ]
  },
  {
   "cell_type": "markdown",
   "id": "bf05f47b",
   "metadata": {},
   "source": [
    "Run 2 cells below with key stroke _Shift+Enter_ to upload the docker image to ECR."
   ]
  },
  {
   "cell_type": "code",
   "execution_count": null,
   "id": "a8f4dba1",
   "metadata": {
    "scrolled": true
   },
   "outputs": [],
   "source": [
    "from deploy_scripts.utils.ecr_utils import pipe_push_image\n",
    "\n",
    "pipe_push_image(aws_account_id, aws_region, ecr_image_name)"
   ]
  },
  {
   "cell_type": "markdown",
   "id": "130dc589",
   "metadata": {},
   "source": [
    "# Lambda function creation"
   ]
  },
  {
   "cell_type": "markdown",
   "id": "a63b4028",
   "metadata": {},
   "source": [
    "Run 2 cells below with key stroke _Shift+Enter_ to generate a Lambda Function based on Docker Image"
   ]
  },
  {
   "cell_type": "markdown",
   "id": "305c18e4",
   "metadata": {},
   "source": [
    "### Create function"
   ]
  },
  {
   "cell_type": "code",
   "execution_count": null,
   "id": "1cd6a1eb",
   "metadata": {},
   "outputs": [],
   "source": [
    "from deploy_scripts.utils.ecr_utils import build_ecr_url\n",
    "from deploy_scripts.utils.lambda_utils import delete_function, create_function\n",
    "\n",
    "# Function name (not public facing)\n",
    "lambda_function_name = f'lambda-fn-{ecr_image_name}'\n",
    "\n",
    "# Retrieve (if already exists) or create a new Lambda function\n",
    "routed_url = build_ecr_url(aws_account_id, aws_region, ecr_image_name)\n",
    "deletion_response = delete_function(lambda_client, lambda_function_name)\n",
    "create_response = create_function(lambda_client, lambda_function_name, func_description, routed_url, role_arn)\n",
    "\n",
    "create_response"
   ]
  },
  {
   "cell_type": "markdown",
   "id": "f1c32e87",
   "metadata": {},
   "source": [
    "### Get function"
   ]
  },
  {
   "cell_type": "code",
   "execution_count": null,
   "id": "85eac6fb",
   "metadata": {},
   "outputs": [],
   "source": [
    "from deploy_scripts.utils.lambda_utils import get_function\n",
    "\n",
    "get_response = get_function(lambda_client, lambda_function_name)\n",
    "\n",
    "get_response"
   ]
  },
  {
   "cell_type": "markdown",
   "id": "1db0e723",
   "metadata": {},
   "source": [
    "### Test lambda function"
   ]
  },
  {
   "cell_type": "code",
   "execution_count": null,
   "id": "c65da515",
   "metadata": {},
   "outputs": [],
   "source": [
    "from json import dumps, loads\n",
    "\n",
    "# Prepare the event to pass to the Lambda function\n",
    "example=[1, 2, 3, 4, 5]\n",
    "\n",
    "# Transform into json format\n",
    "payload=dumps({\"body\": example})\n",
    "\n",
    "# Invoke the Lambda function\n",
    "response = lambda_client.invoke(\n",
    "    FunctionName=lambda_function_name,\n",
    "    InvocationType='RequestResponse',\n",
    "    Payload=payload\n",
    ")\n",
    "\n",
    "# Get the response from the Lambda function\n",
    "result = loads(response['Payload'].read())\n",
    "\n",
    "print(result)"
   ]
  },
  {
   "cell_type": "markdown",
   "id": "33fda8c7",
   "metadata": {},
   "source": [
    "## API Gateway setup"
   ]
  },
  {
   "cell_type": "markdown",
   "id": "6ad18b80",
   "metadata": {},
   "source": [
    "Run the cells below to set the Lambda Function as an Endpoint on API Gateway."
   ]
  },
  {
   "cell_type": "code",
   "execution_count": null,
   "id": "58bb2128",
   "metadata": {},
   "outputs": [],
   "source": [
    "from deploy_scripts.utils.api_gateway_utils import delete_apis_by_name, has_api\n",
    "\n",
    "delete_apis_by_name(gateway_client, rest_api_name)"
   ]
  },
  {
   "cell_type": "code",
   "execution_count": null,
   "id": "42bb068e",
   "metadata": {},
   "outputs": [],
   "source": [
    "from deploy_scripts.utils.api_gateway_utils import deploy_rest_api, build_api_url\n",
    "\n",
    "# Define the name of the API (not public facing)\n",
    "rest_api_name = lambda_function_name + '-api'\n",
    "\n",
    "deployment_reponse = deploy_rest_api(\\\n",
    "    gateway_client, lambda_client, \\\n",
    "    aws_account_id, aws_region, \\\n",
    "    lambda_function_name, rest_api_name, \\\n",
    "    endpoint, method_verb, \\\n",
    "    usage_constraints, stage \\\n",
    ")\n",
    "\n",
    "deployment_reponse"
   ]
  },
  {
   "cell_type": "code",
   "execution_count": null,
   "id": "798ed4dc",
   "metadata": {},
   "outputs": [],
   "source": [
    "api_key=deployment_reponse['api_key']\n",
    "rest_api_id=deployment_reponse['rest_api_id']\n",
    "\n",
    "# The URL by default will follow this pattern:\n",
    "api_url = build_api_url(rest_api_id, aws_region, endpoint, stage)\n",
    "\n",
    "print(api_key)\n",
    "print(api_url)\n"
   ]
  },
  {
   "cell_type": "markdown",
   "id": "7feb4dea",
   "metadata": {},
   "source": [
    "### Test API Gateway endpoint"
   ]
  },
  {
   "cell_type": "code",
   "execution_count": null,
   "id": "c29513cd",
   "metadata": {},
   "outputs": [],
   "source": [
    "import json\n",
    "import requests\n",
    "\n",
    "# Prepare the event to pass to the Lambda function\n",
    "example=[1, 2, 3, 4, 5]\n",
    "\n",
    "# Transform into json format\n",
    "payload=json.dumps({\"body\": example})\n",
    "\n",
    "headers = {\n",
    "    'Content-type': 'application/json', \n",
    "    'x-api-key': api_key,\n",
    "}\n",
    "\n",
    "resp = requests.post(api_url, headers=headers, json=example)\n",
    "resp.json()\n"
   ]
  },
  {
   "cell_type": "markdown",
   "id": "48c01be1",
   "metadata": {},
   "source": [
    "# Deployment pipeline"
   ]
  },
  {
   "cell_type": "code",
   "execution_count": null,
   "id": "dce2896a",
   "metadata": {},
   "outputs": [],
   "source": [
    "deployment_response = {\n",
    "    'api_key': api_key,\n",
    "    'api_url': api_url,\n",
    "    'method_verb': method_verb,\n",
    "    # Add other information as needed\n",
    "}\n",
    "\n",
    "# Save the deployment information to a JSON file\n",
    "deployment_info_filename = \"deployment_info.json\"\n",
    "\n",
    "with open(deployment_info_filename, 'w') as json_file:\n",
    "    json.dump(deployment_response, json_file)\n",
    "\n",
    "print(f\"Deployment information saved to {deployment_info_filename}\")"
   ]
  },
  {
   "cell_type": "code",
   "execution_count": 6,
   "id": "706db735",
   "metadata": {},
   "outputs": [
    {
     "name": "stdout",
     "output_type": "stream",
     "text": [
      "----------------------------------------------------------------------\n",
      "Task \"Docker image upload on AWS ECR\" just started!\n",
      "----------------------------------------------------------------------\n",
      "Logging in on ECR account...\n",
      "Deleting existent ECR image...\n",
      "Creating ECR image...\n",
      "Building docker image...\n",
      "Tagging docker image...\n",
      "Pushing docker image to ECR...\n",
      "----------------------------------------------------------------------\n",
      "Task \"Docker image upload on AWS ECR\" finished successfully!\n",
      "----------------------------------------------------------------------\n",
      "\n",
      "----------------------------------------------------------------------\n",
      "Task \"Role policy attachment\" just started!\n",
      "----------------------------------------------------------------------\n",
      "----------------------------------------------------------------------\n",
      "Task \"Role policy attachment\" finished successfully!\n",
      "----------------------------------------------------------------------\n",
      "\n",
      "----------------------------------------------------------------------\n",
      "Task \"Lambda Function \"lambda-fn-serverless-example\" deployment\" just started!\n",
      "----------------------------------------------------------------------\n",
      "Lambda deployment is still in progress. Waiting...\n",
      "Lambda deployment is still in progress. Waiting...\n",
      "Lambda deployment is still in progress. Waiting...\n",
      "Lambda deployment is still in progress. Waiting...\n",
      "Lambda function deployment duration: 16.08 seconds\n",
      "----------------------------------------------------------------------\n",
      "Task \"Lambda Function \"lambda-fn-serverless-example\" deployment\" finished successfully!\n",
      "----------------------------------------------------------------------\n",
      "\n",
      "Deleted API with name 'lambda-fn-serverless-example-api' and ID '1vo66zahxg'\n",
      "----------------------------------------------------------------------\n",
      "Task \"Deployment of REST API lambda-fn-serverless-example-api\" just started!\n",
      "----------------------------------------------------------------------\n",
      "----------------------------------------------------------------------\n",
      "Task \"Deployment of REST API lambda-fn-serverless-example-api\" finished successfully!\n",
      "----------------------------------------------------------------------\n",
      "\n",
      "Deployment duration is 78.34062886238098 seconds\n"
     ]
    }
   ],
   "source": [
    "from time import time\n",
    "\n",
    "from deploy_scripts.utils.iam_utils import try_attach_role_policy\n",
    "\n",
    "from deploy_scripts.utils.ecr_utils import pipe_push_image, \\\n",
    "    build_ecr_url\n",
    "\n",
    "from deploy_scripts.utils.lambda_utils import delete_lambda_function, \\\n",
    "    create_lambda_function, \\\n",
    "    get_lambda_function, \\\n",
    "    wait_for_lambda_deployment, \\\n",
    "    get_lambda_function_name, \\\n",
    "    deploy_lambda_function\n",
    "\n",
    "from deploy_scripts.utils.api_gateway_utils import delete_apis_by_name, \\\n",
    "    has_api, \\\n",
    "    deploy_rest_api, \\\n",
    "    build_api_url, \\\n",
    "    wait_for_api_endpoint\n",
    "\n",
    "start_time=time()\n",
    "\n",
    "pipe_push_image(aws_account_id, aws_region, ecr_image_name)\n",
    "\n",
    "# The id \"role_arn\" will be used on lambda deployment\n",
    "role_arn = try_attach_role_policy(iam_client, iam_role_name, trust_policy)\n",
    "\n",
    "# Deletes existent lambda function\n",
    "# FIX: This is too harsh. Try update it!\n",
    "lambda_function_name = get_lambda_function_name(ecr_image_name)\n",
    "delete_lambda_function(lambda_client, lambda_function_name)\n",
    "\n",
    "# Deploys lambda function of ECR image\n",
    "deploy_lambda_function(\n",
    "        lambda_client, \\\n",
    "        func_description, \\\n",
    "        aws_account_id, \\\n",
    "        aws_region, \\\n",
    "        ecr_image_name, \n",
    "        role_arn)\n",
    "\n",
    "# Defines the name of the API (not public facing)\n",
    "rest_api_name = lambda_function_name + '-api'\n",
    "\n",
    "# Delete previous API Gateway\n",
    "# FIX: This is too harsh. Try update it! \n",
    "delete_apis_by_name(gateway_client, rest_api_name)\n",
    "\n",
    "# Deploys lambda function as API Gateway endpoint\n",
    "api_deployment_reponse = deploy_rest_api(\\\n",
    "    gateway_client, lambda_client, \\\n",
    "    aws_account_id, aws_region, \\\n",
    "    lambda_function_name, rest_api_name, \\\n",
    "    endpoint, method_verb, \\\n",
    "    usage_constraints, stage_name \\\n",
    ")\n",
    "\n",
    "final_time=time()\n",
    "duration=final_time-start_time\n",
    "\n",
    "print(f'Deployment duration is {duration} seconds')"
   ]
  },
  {
   "cell_type": "code",
   "execution_count": 9,
   "id": "5a22b680",
   "metadata": {},
   "outputs": [
    {
     "name": "stdout",
     "output_type": "stream",
     "text": [
      "Deployment information saved to deployment_info.json\n"
     ]
    }
   ],
   "source": [
    "from json import dump\n",
    "\n",
    "# Retrieve information from \n",
    "rest_api_id=api_deployment_reponse['rest_api_id']\n",
    "api_key=api_deployment_reponse['api_key']\n",
    "rest_api_id=api_deployment_reponse['rest_api_id']    \n",
    "\n",
    "# The URL by default will follow this pattern:\n",
    "api_url = build_api_url(rest_api_id, aws_region, endpoint, stage_name)\n",
    "\n",
    "deployment_response = {\n",
    "    'api_key': api_key,\n",
    "    'api_url': api_url,\n",
    "    'method_verb': method_verb,\n",
    "    # Add other information as needed\n",
    "}\n",
    "\n",
    "# Save the deployment information to a JSON file\n",
    "deployment_info_filename = \"deployment_info.json\"\n",
    "\n",
    "with open(deployment_info_filename, 'w') as json_file:\n",
    "    dump(deployment_response, json_file)\n",
    "\n",
    "print(f\"Deployment information saved to {deployment_info_filename}\")"
   ]
  },
  {
   "cell_type": "code",
   "execution_count": null,
   "id": "1bd20107",
   "metadata": {},
   "outputs": [],
   "source": []
  }
 ],
 "metadata": {
  "kernelspec": {
   "display_name": "Python 3 (ipykernel)",
   "language": "python",
   "name": "python3"
  },
  "language_info": {
   "codemirror_mode": {
    "name": "ipython",
    "version": 3
   },
   "file_extension": ".py",
   "mimetype": "text/x-python",
   "name": "python",
   "nbconvert_exporter": "python",
   "pygments_lexer": "ipython3",
   "version": "3.8.10"
  }
 },
 "nbformat": 4,
 "nbformat_minor": 5
}
