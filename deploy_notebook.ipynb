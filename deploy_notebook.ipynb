{
 "cells": [
  {
   "cell_type": "markdown",
   "id": "62a365fe",
   "metadata": {},
   "source": [
    "# Required information"
   ]
  },
  {
   "cell_type": "code",
   "execution_count": 1,
   "id": "712ec893",
   "metadata": {},
   "outputs": [],
   "source": [
    "import os\n",
    "from dotenv import load_dotenv\n",
    "\n",
    "# Load environment variables from .env\n",
    "load_dotenv()\n",
    "\n",
    "# Load environment variables from .env\n",
    "aws_account_id = os.getenv('AWS_ACCOUNT_ID')\n",
    "aws_region = os.getenv('AWS_REGION')\n",
    "\n",
    "aws_access_key = os.getenv('AWS_ACCESS_KEY')\n",
    "aws_secret_key = os.getenv('AWS_SECRET_KEY')\n",
    "\n",
    "s3_bucket_name = os.getenv('S3_BUCKET_NAME')\n",
    "s3_object_key = os.getenv('S3_OBJECT_KEY')\n",
    "\n",
    "## Specify the role name and trust policy for the Lambda service\n",
    "iam_role_name = os.getenv('IAM_ROLE_NAME')"
   ]
  },
  {
   "cell_type": "markdown",
   "id": "3a89dd27",
   "metadata": {},
   "source": [
    "## User-dependent solution variables"
   ]
  },
  {
   "cell_type": "code",
   "execution_count": 2,
   "id": "141cc26a",
   "metadata": {},
   "outputs": [],
   "source": [
    "# User setup\n",
    "\n",
    "# Platform\n",
    "ecr_image_name = \"serverless-example\"\n",
    "\n",
    "# Function description\n",
    "func_description='A test Lambda function'\n",
    "\n",
    "# API\n",
    "endpoint = \"predict\"\n",
    "method_verb='POST'\n",
    "stage_name = \"test\""
   ]
  },
  {
   "cell_type": "markdown",
   "id": "b441cf01",
   "metadata": {},
   "source": [
    "## Protocols and performance"
   ]
  },
  {
   "cell_type": "code",
   "execution_count": 4,
   "id": "2bd5ffe2",
   "metadata": {},
   "outputs": [
    {
     "name": "stdout",
     "output_type": "stream",
     "text": [
      "Loaded JSON:\n",
      "{'Version': '2012-10-17', 'Statement': [{'Effect': 'Allow', 'Principal': {'Service': 'lambda.amazonaws.com'}, 'Action': 'sts:AssumeRole'}]}\n",
      "Loaded JSON:\n",
      "{'rate_limits': {'burstLimit': 10, 'rateLimit': 10.0}, 'quota': {'limit': 100, 'period': 'DAY'}}\n"
     ]
    }
   ],
   "source": [
    "# AWS setup\n",
    "from os import getcwd\n",
    "from deploy.utils.misc import get_lambda_usage_constraints, get_trust_policy\n",
    "\n",
    "cwd=getcwd()\n",
    "\n",
    "## Specify the path to the JSON file\n",
    "## NOTE: Update with the actual path to your JSON file\n",
    "trust_policy_file_path = cwd+\"/deploy_scripts\"\n",
    "trust_policy = get_trust_policy(trust_policy_file_path)\n",
    "\n",
    "## Rate limits: Harsh since this will be public facing\n",
    "## Quota: Low daily limits for the same reason\n",
    "usage_constraints_file_path = cwd+\"/deploy_scripts\"\n",
    "usage_constraints = get_lambda_usage_constraints(usage_constraints_file_path)\n",
    "\n",
    "## AWS Lambda execution role \n",
    "lambda_policy_arn = 'arn:aws:iam::aws:policy/service-role/AWSLambdaBasicExecutionRole'\n"
   ]
  },
  {
   "cell_type": "markdown",
   "id": "234bc9e0",
   "metadata": {},
   "source": [
    "# Clients"
   ]
  },
  {
   "cell_type": "code",
   "execution_count": 3,
   "id": "f223d63e",
   "metadata": {},
   "outputs": [],
   "source": [
    "import boto3\n",
    "\n",
    "# Set up the IAM client\n",
    "iam_client = boto3.client('iam', region_name=aws_region)\n",
    "\n",
    "# Set up the Lambda client\n",
    "lambda_client = boto3.client('lambda', region_name=aws_region)\n",
    "\n",
    "# Set up the API Gateway client\n",
    "gateway_client = boto3.client('apigateway', region_name=aws_region)"
   ]
  },
  {
   "cell_type": "markdown",
   "id": "9f02843c",
   "metadata": {},
   "source": [
    "# Development steps\n",
    "\n",
    "1. IAM role image handling;\n",
    "2. ECR image\n",
    "3. Lambda function creation;\n",
    "4. API Gateway\n",
    "\n",
    "\n",
    "## IAM Role Image Handling\n",
    "\n",
    "The first step: create a user on IAM with below permissions:\n",
    "\n",
    "- **IAMUserChangePassword**: a default permission to change password \n",
    "- **IAMFullAccess**: Allows IAM management\n",
    "- **AmazonEC2ContainerRegistryFullAccess**: Allows uploading image to ECR\n",
    "- **AWSLambda_FullAccess**: Allows access to specific Lambda function given a role \n",
    "- **AmazonAPIGatewayAdministrator**: Allows access to specific API Gateway handling \n",
    "\n",
    "## ECR image\n",
    "\n",
    "- Log in on ECR account;\n",
    "- Delete existent ECR image;\n",
    "- Create ECR image;\n",
    "- Build docker image;\n",
    "- Tag docker image;\n",
    "- Push docker image to ECR.\n",
    "\n",
    "## Lambda function creation\n",
    "\n",
    "- Create function;\n",
    "- Test lambda function.\n",
    "\n",
    "## API Gateway"
   ]
  },
  {
   "cell_type": "markdown",
   "id": "48c01be1",
   "metadata": {},
   "source": [
    "# Deployment pipeline"
   ]
  },
  {
   "cell_type": "code",
   "execution_count": 3,
   "id": "b3a28bbc",
   "metadata": {},
   "outputs": [
    {
     "name": "stdout",
     "output_type": "stream",
     "text": [
      "Loaded JSON:\n",
      "{'rate_limits': {'burstLimit': 10, 'rateLimit': 10.0}, 'quota': {'limit': 100, 'period': 'DAY'}}\n",
      "Loaded JSON:\n",
      "{'Version': '2012-10-17', 'Statement': [{'Effect': 'Allow', 'Principal': {'Service': 'lambda.amazonaws.com'}, 'Action': 'sts:AssumeRole'}]}\n",
      "Starting execution of Deployment of ML solution...\n",
      "Starting execution of Docker image upload on AWS ECR...\n",
      "Logging in on ECR account...\n",
      "An error occurred: the JSON object must be str, bytes or bytearray, not NoneType\n",
      "Creating ECR image...\n",
      "Building docker image...\n",
      "Tagging docker image...\n",
      "Pushing docker image to ECR...\n",
      "Finished execution of Docker image upload on AWS ECR.\n",
      "Time taken: 17.70 seconds\n",
      "Starting execution of Role policy attachment...\n",
      "Finished execution of Role policy attachment.\n",
      "Time taken: 1.12 seconds\n",
      "Starting execution of Lambda Function deployment...\n",
      "Lambda deployment is still in progress. Waiting...\n",
      "Lambda deployment is still in progress. Waiting...\n",
      "Lambda deployment is still in progress. Waiting...\n",
      "Lambda deployment is still in progress. Waiting...\n",
      "Lambda function deployment duration: 16.05 seconds\n",
      "Finished execution of Lambda Function deployment.\n",
      "Time taken: 22.07 seconds\n",
      "Deleted API with name 'lambda-fn-serverless-example-api' and ID '85zcfk2hog'\n",
      "Finished execution of Deployment of ML solution.\n",
      "Time taken: 47.53 seconds\n"
     ]
    }
   ],
   "source": [
    "from os import getcwd, getenv\n",
    "from dotenv import load_dotenv\n",
    "\n",
    "from deploy.core import deploy_solution\n",
    "from deploy.utils.misc import get_lambda_usage_constraints, get_trust_policy\n",
    "\n",
    "# Load environment variables from .env\n",
    "load_dotenv()\n",
    "\n",
    "# Load environment variables from .env\n",
    "aws_account_id = getenv('AWS_ACCOUNT_ID')\n",
    "aws_region = getenv('AWS_REGION')\n",
    "\n",
    "aws_access_key = getenv('AWS_ACCESS_KEY')\n",
    "aws_secret_key = getenv('AWS_SECRET_KEY')\n",
    "\n",
    "s3_bucket_name = getenv('S3_BUCKET_NAME')\n",
    "s3_object_key = getenv('S3_OBJECT_KEY')\n",
    "\n",
    "## Specify the role name and trust policy for the Lambda service\n",
    "iam_role_name = getenv('IAM_ROLE_NAME')\n",
    "\n",
    "account_info={\n",
    "    \"account_id\": aws_account_id,\n",
    "    \"region\": aws_region,\n",
    "    \"iam_role\":iam_role_name\n",
    "}\n",
    "\n",
    "activity_info={\n",
    "    \"image_name\": ecr_image_name,\n",
    "    \"lambda_function_description\": func_description,\n",
    "    \"endpoint\": endpoint,\n",
    "    \"method\": method_verb,\n",
    "    \"stage\": stage_name,\n",
    "}\n",
    "\n",
    "cwd=getcwd()\n",
    "config_path=cwd+\"/deploy\"\n",
    "usage_constraints = get_lambda_usage_constraints(config_path)\n",
    "trust_policy = get_trust_policy(config_path)\n",
    "\n",
    "\n",
    "configuration_paths={\n",
    "    \"usage_constraints\": usage_constraints,\n",
    "    \"trust_policy\": trust_policy\n",
    "}\n",
    "\n",
    "deployment_info=deploy_solution(account_info, activity_info, configuration_paths)\n",
    "\n"
   ]
  },
  {
   "cell_type": "code",
   "execution_count": 4,
   "id": "5a22b680",
   "metadata": {},
   "outputs": [
    {
     "name": "stdout",
     "output_type": "stream",
     "text": [
      "Deployment information saved to deployment_info.json\n"
     ]
    }
   ],
   "source": [
    "from json import dump\n",
    "\n",
    "# Retrieve information from deployment response\n",
    "api_key=deployment_info['api_key']\n",
    "api_url = deployment_info['api_url']\n",
    "\n",
    "deployment_response = {\n",
    "    'api_key': api_key,\n",
    "    'api_url': api_url,\n",
    "    'method_verb': method_verb,\n",
    "    # Add other information as needed\n",
    "}\n",
    "\n",
    "# Save the deployment information to a JSON file\n",
    "deployment_info_filename = \"deployment_info.json\"\n",
    "\n",
    "with open(deployment_info_filename, 'w') as json_file:\n",
    "    dump(deployment_response, json_file)\n",
    "\n",
    "print(f\"Deployment information saved to {deployment_info_filename}\")"
   ]
  },
  {
   "cell_type": "code",
   "execution_count": 5,
   "id": "8ffeca41",
   "metadata": {},
   "outputs": [
    {
     "name": "stdout",
     "output_type": "stream",
     "text": [
      "Deployment information loaded from deployment_info.json\n"
     ]
    }
   ],
   "source": [
    "from json import load\n",
    "\n",
    "# Save the deployment information to a JSON file\n",
    "deployment_info_filename = \"deployment_info.json\"\n",
    "\n",
    "with open(deployment_info_filename, 'r') as json_file:\n",
    "    json_payload=load(json_file)\n",
    "\n",
    "method_verb=json_payload['method_verb']\n",
    "api_key=json_payload['api_key']\n",
    "api_url=json_payload['api_url']\n",
    "\n",
    "print(f\"Deployment information loaded from {deployment_info_filename}\")"
   ]
  },
  {
   "cell_type": "code",
   "execution_count": 48,
   "id": "47d69e87",
   "metadata": {},
   "outputs": [
    {
     "name": "stdout",
     "output_type": "stream",
     "text": [
      "[1, 100, 9, 16, 25, 36, 49, 64, 121, 625, 4]\n"
     ]
    }
   ],
   "source": [
    "import json\n",
    "import requests\n",
    "\n",
    "# Prepare the event to pass to the Lambda function\n",
    "example=[1, 10, 3, 4, 5, 6, 7, 8, 11, 25, 2]\n",
    "\n",
    "headers = {\n",
    "    'Content-type': 'application/json', \n",
    "    'x-api-key': api_key,\n",
    "}\n",
    "\n",
    "resp = requests.post(api_url, headers=headers, json=example)\n",
    "\n",
    "# Check the response and handle it accordingly\n",
    "if resp.status_code == 200:\n",
    "    response_data = resp.json()\n",
    "    print(response_data)\n",
    "else:\n",
    "    print(\"Request failed with status code:\", resp.status_code)\n",
    "    print(resp.text)\n",
    "\n"
   ]
  },
  {
   "cell_type": "code",
   "execution_count": 45,
   "id": "ee891562",
   "metadata": {},
   "outputs": [
    {
     "name": "stdout",
     "output_type": "stream",
     "text": [
      "Request failed with status code: 502\n",
      "{\"message\": \"Internal server error\"}\n",
      "Request failed with status code: 502\n",
      "{\"message\": \"Internal server error\"}\n",
      "Request failed with status code: 502\n",
      "{\"message\": \"Internal server error\"}\n",
      "Request failed with status code: 502\n",
      "{\"message\": \"Internal server error\"}\n",
      "Request failed with status code: 502\n",
      "{\"message\": \"Internal server error\"}\n",
      "Request failed with status code: 502\n",
      "{\"message\": \"Internal server error\"}\n",
      "Request failed with status code: 502\n",
      "{\"message\": \"Internal server error\"}\n"
     ]
    }
   ],
   "source": [
    "# WIP\n",
    "\n",
    "import json\n",
    "import requests\n",
    "from about_time import about_time\n",
    "\n",
    "# Prepare the event to pass to the Lambda function\n",
    "example_sizes=[1, 10, 100, 1000, 10000, 100000, 100000]\n",
    "durations=[]\n",
    "\n",
    "with about_time() as total_t:\n",
    "    for example_size in example_sizes:\n",
    "        with about_time() as single_t:\n",
    "            # Transform into json format\n",
    "            example=list(range(example_size))\n",
    "\n",
    "            headers = {\n",
    "                'Content-type': 'application/json', \n",
    "                'x-api-key': api_key,\n",
    "            }\n",
    "\n",
    "            resp = requests.post(api_url, headers=headers, json=example)\n",
    "\n",
    "            # Check the response and handle it accordingly\n",
    "            if resp.status_code == 200:\n",
    "                response_data = resp.json()\n",
    "                print(response_data)\n",
    "            else:\n",
    "                print(\"Request failed with status code:\", resp.status_code)\n",
    "                print(resp.text)\n",
    "        \n",
    "        durations.append(single_t.duration_human)\n"
   ]
  },
  {
   "cell_type": "code",
   "execution_count": 47,
   "id": "838b86b5",
   "metadata": {
    "scrolled": true
   },
   "outputs": [
    {
     "data": {
      "text/plain": [
       "[HumanDuration{ value=0.2298033020051662 } -> 229.8ms,\n",
       " HumanDuration{ value=0.2277509999985341 } -> 227.8ms,\n",
       " HumanDuration{ value=0.25589482099894667 } -> 255.9ms,\n",
       " HumanDuration{ value=0.45181277499796124 } -> 451.8ms,\n",
       " HumanDuration{ value=0.36862316699989606 } -> 368.6ms,\n",
       " HumanDuration{ value=1.2030376620023162 } -> 1.2s,\n",
       " HumanDuration{ value=0.9206874879964744 } -> 920.7ms]"
      ]
     },
     "execution_count": 47,
     "metadata": {},
     "output_type": "execute_result"
    }
   ],
   "source": [
    "durations"
   ]
  },
  {
   "cell_type": "code",
   "execution_count": null,
   "id": "7644b438",
   "metadata": {},
   "outputs": [],
   "source": []
  }
 ],
 "metadata": {
  "kernelspec": {
   "display_name": "Python 3 (ipykernel)",
   "language": "python",
   "name": "python3"
  },
  "language_info": {
   "codemirror_mode": {
    "name": "ipython",
    "version": 3
   },
   "file_extension": ".py",
   "mimetype": "text/x-python",
   "name": "python",
   "nbconvert_exporter": "python",
   "pygments_lexer": "ipython3",
   "version": "3.8.10"
  }
 },
 "nbformat": 4,
 "nbformat_minor": 5
}
