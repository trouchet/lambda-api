{
 "cells": [
  {
   "cell_type": "markdown",
   "id": "9f02843c",
   "metadata": {},
   "source": [
    "# Development steps\n",
    "\n",
    "1. IAM role image handling;\n",
    "2. ECR image\n",
    "3. Lambda function creation;\n",
    "4. API Gateway\n",
    "\n",
    "\n",
    "## IAM Role Image Handling\n",
    "\n",
    "The first step: create a user on IAM with below permissions:\n",
    "\n",
    "- **IAMUserChangePassword**: a default permission to change password \n",
    "- **IAMFullAccess**: Allows IAM management\n",
    "- **AmazonEC2ContainerRegistryFullAccess**: Allows uploading image to ECR\n",
    "- **AWSLambda_FullAccess**: Allows access to specific Lambda function given a role \n",
    "- **AmazonAPIGatewayAdministrator**: Allows access to specific API Gateway handling \n",
    "\n",
    "## ECR\n",
    "\n",
    "1. Log in on ECR account;\n",
    "2. Delete existent ECR image;\n",
    "3. Create ECR image;\n",
    "4. Build docker image;\n",
    "5. Tag docker image;\n",
    "6. Push docker image to ECR.\n",
    "\n",
    "## Lambda function\n",
    "\n",
    "1. Create lambda function;\n",
    "2. Test lambda function.\n",
    "\n",
    "## API Gateway\n",
    "\n",
    "1. Create REST API\n",
    "2. Create API resource\n",
    "3. Create REST method\n",
    "4. Set up integration with the Lambda function\n",
    "5. Deploy API\n",
    "6. Create API key\n",
    "7. Create usage plan\n",
    "8. Associate the usage plan with the API key\n",
    "9. Grant API Gateway permission to invoke the Lambda function\n"
   ]
  },
  {
   "cell_type": "markdown",
   "id": "48c01be1",
   "metadata": {},
   "source": [
    "# Deployment pipeline"
   ]
  },
  {
   "cell_type": "code",
   "execution_count": 1,
   "id": "c2a8406a",
   "metadata": {
    "scrolled": false
   },
   "outputs": [
    {
     "name": "stdout",
     "output_type": "stream",
     "text": [
      "Loaded JSON: /home/brunolnetto/github/trouchet/lambda-api/deploy/api_usage_constraints.json\n",
      "Loaded JSON: /home/brunolnetto/github/trouchet/lambda-api/deploy/trust_policy.json\n",
      "Starting execution of Deployment of ML solution...\n",
      "Starting execution of Docker image upload on AWS ECR...\n",
      "Logging in on ECR account...\n",
      "Building docker image...\n",
      "Tagging docker image...\n",
      "Pushing docker image to ECR...\n",
      "Finished execution of Docker image upload on AWS ECR.\n",
      "Time taken: 25.75 seconds\n",
      "Starting execution of Role policy attachment...\n",
      "Finished execution of Role policy attachment.\n",
      "Time taken: 1.00 seconds\n",
      "Starting execution of API endpoint deployment...\n",
      "An error occurred (ConflictException) when calling the CreateUsagePlanKey operation: Usage Plan d4vdxp cannot be added because API Key xxnm3md6p0 cannot reference multiple Usage Plans with the same API Stage: 76wtvuoioe:test\n",
      "Finished execution of API endpoint deployment.\n",
      "Time taken: 3.10 seconds\n",
      "Finished execution of Deployment of ML solution.\n",
      "Time taken: 31.82 seconds\n"
     ]
    }
   ],
   "source": [
    "from os import getcwd\n",
    "from deploy.core import do_deploy\n",
    "\n",
    "method_verb='POST'\n",
    "\n",
    "activity_info_ = {\n",
    "    'image_name': \"serverless-example\",\n",
    "    \"lambda_function_name\": 'test_function',\n",
    "    'lambda_function_description': 'A test Lambda function',\n",
    "    \"rest_api_name\": 'my-api',\n",
    "    'endpoint': \"predict\",\n",
    "    'method_verb': method_verb,\n",
    "    'stage': \"test\"\n",
    "}\n",
    "\n",
    "# Load environment variables from .env\n",
    "base_path=getcwd()+'/deploy'\n",
    "\n",
    "configuration_info_={\n",
    "    'environment_path': base_path+'/.env',\n",
    "    'trust_policy_path': base_path,\n",
    "    'usage_constraints_path': base_path\n",
    "}\n",
    "\n",
    "deployment_info=do_deploy(activity_info_, configuration_info_)"
   ]
  },
  {
   "cell_type": "code",
   "execution_count": 4,
   "id": "5a22b680",
   "metadata": {},
   "outputs": [
    {
     "name": "stdout",
     "output_type": "stream",
     "text": [
      "Deployment information saved to deployment_info.json\n"
     ]
    }
   ],
   "source": [
    "from json import dump\n",
    "\n",
    "# Retrieve information from deployment response\n",
    "api_key=deployment_info['api_key']\n",
    "api_url = deployment_info['api_url']\n",
    "\n",
    "deployment_response = {\n",
    "    'api_key': api_key,\n",
    "    'api_url': api_url,\n",
    "    'method_verb': method_verb,\n",
    "    # Add other information as needed\n",
    "}\n",
    "\n",
    "# Save the deployment information to a JSON file\n",
    "deployment_info_filename = \"deployment_info.json\"\n",
    "\n",
    "with open(deployment_info_filename, 'w') as json_file:\n",
    "    dump(deployment_response, json_file)\n",
    "\n",
    "print(f\"Deployment information saved to {deployment_info_filename}\")"
   ]
  },
  {
   "cell_type": "code",
   "execution_count": 5,
   "id": "8ffeca41",
   "metadata": {},
   "outputs": [
    {
     "name": "stdout",
     "output_type": "stream",
     "text": [
      "Deployment information loaded from deployment_info.json\n"
     ]
    }
   ],
   "source": [
    "from json import load\n",
    "\n",
    "# Save the deployment information to a JSON file\n",
    "deployment_info_filename = \"deployment_info.json\"\n",
    "\n",
    "with open(deployment_info_filename, 'r') as json_file:\n",
    "    json_payload=load(json_file)\n",
    "\n",
    "method_verb=json_payload['method_verb']\n",
    "api_key=json_payload['api_key']\n",
    "api_url=json_payload['api_url']\n",
    "\n",
    "print(f\"Deployment information loaded from {deployment_info_filename}\")"
   ]
  },
  {
   "cell_type": "code",
   "execution_count": 13,
   "id": "45266589",
   "metadata": {},
   "outputs": [],
   "source": [
    "from requests import post\n",
    "\n",
    "def query_post_endpoint(api_url_, api_key_, example_):\n",
    "    headers = {\n",
    "        'Content-type': 'application/json', \n",
    "        'x-api-key': api_key_,\n",
    "    }\n",
    "\n",
    "    resp = post(api_url_, headers=headers, json=example_)\n",
    "\n",
    "    # Check the response and handle it accordingly\n",
    "    if resp.status_code == 200:\n",
    "        response_data = resp.json()\n",
    "        print(response_data)\n",
    "    else:\n",
    "        print(\"Request failed with status code:\", resp.status_code)\n",
    "        print(resp.text)"
   ]
  },
  {
   "cell_type": "code",
   "execution_count": 14,
   "id": "47d69e87",
   "metadata": {},
   "outputs": [
    {
     "name": "stdout",
     "output_type": "stream",
     "text": [
      "[1, 4, 9, 16, 25, 36, 49, 64, 81]\n"
     ]
    }
   ],
   "source": [
    "import json\n",
    "import numpy as np\n",
    "\n",
    "# Prepare the event to pass to the Lambda function\n",
    "example=[1,2,3,4,5,6,7,8,9]\n",
    "\n",
    "query_post_endpoint(api_url, api_key, example)"
   ]
  },
  {
   "cell_type": "code",
   "execution_count": 15,
   "id": "ee891562",
   "metadata": {},
   "outputs": [
    {
     "name": "stdout",
     "output_type": "stream",
     "text": [
      "Request failed with status code: 502\n",
      "{\"message\": \"Internal server error\"}\n",
      "Request failed with status code: 502\n",
      "{\"message\": \"Internal server error\"}\n",
      "Request failed with status code: 502\n",
      "{\"message\": \"Internal server error\"}\n",
      "Request failed with status code: 502\n",
      "{\"message\": \"Internal server error\"}\n",
      "Request failed with status code: 502\n",
      "{\"message\": \"Internal server error\"}\n",
      "Request failed with status code: 502\n",
      "{\"message\": \"Internal server error\"}\n",
      "Request failed with status code: 502\n",
      "{\"message\": \"Internal server error\"}\n"
     ]
    }
   ],
   "source": [
    "# WIP\n",
    "\n",
    "import json\n",
    "import requests\n",
    "from about_time import about_time\n",
    "\n",
    "# Prepare the event to pass to the Lambda function\n",
    "example_sizes=[1, 10, 100, 1000, 10000, 100000, 100000]\n",
    "durations=[]\n",
    "\n",
    "with about_time() as total_t:\n",
    "    for example_size in example_sizes:\n",
    "        with about_time() as single_t:\n",
    "            # Transform into json format\n",
    "            example=list(range(example_size))\n",
    "            \n",
    "            query_post_endpoint(api_url, api_key, example)\n",
    "        \n",
    "        durations.append(single_t.duration_human)\n"
   ]
  },
  {
   "cell_type": "code",
   "execution_count": null,
   "id": "7644b438",
   "metadata": {},
   "outputs": [],
   "source": []
  }
 ],
 "metadata": {
  "kernelspec": {
   "display_name": "Python 3 (ipykernel)",
   "language": "python",
   "name": "python3"
  },
  "language_info": {
   "codemirror_mode": {
    "name": "ipython",
    "version": 3
   },
   "file_extension": ".py",
   "mimetype": "text/x-python",
   "name": "python",
   "nbconvert_exporter": "python",
   "pygments_lexer": "ipython3",
   "version": "3.8.10"
  }
 },
 "nbformat": 4,
 "nbformat_minor": 5
}
