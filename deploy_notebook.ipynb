{
 "cells": [
  {
   "cell_type": "markdown",
   "id": "9f02843c",
   "metadata": {},
   "source": [
    "# Development steps\n",
    "\n",
    "1. IAM role image handling;\n",
    "2. ECR image\n",
    "3. Lambda function creation;\n",
    "4. API Gateway\n",
    "\n",
    "\n",
    "## IAM Role Image Handling\n",
    "\n",
    "The first step: create a user on IAM with below permissions:\n",
    "\n",
    "- **IAMUserChangePassword**: a default permission to change password \n",
    "- **IAMFullAccess**: Allows IAM management\n",
    "- **AmazonEC2ContainerRegistryFullAccess**: Allows uploading image to ECR\n",
    "- **AWSLambda_FullAccess**: Allows access to specific Lambda function given a role \n",
    "- **AmazonAPIGatewayAdministrator**: Allows access to specific API Gateway handling \n",
    "\n",
    "## ECR\n",
    "\n",
    "1. Log in on ECR account;\n",
    "2. Delete existent ECR image;\n",
    "3. Create ECR image;\n",
    "4. Build docker image;\n",
    "5. Tag docker image;\n",
    "6. Push docker image to ECR.\n",
    "\n",
    "## Lambda function\n",
    "\n",
    "1. Create lambda function;\n",
    "2. Test lambda function.\n",
    "\n",
    "## API Gateway\n",
    "\n",
    "1. Create REST API\n",
    "2. Create API resource\n",
    "3. Create REST method\n",
    "4. Set up integration with the Lambda function\n",
    "5. Deploy API\n",
    "6. Create API key\n",
    "7. Create usage plan\n",
    "8. Associate the usage plan with the API key\n",
    "9. Grant API Gateway permission to invoke the Lambda function\n"
   ]
  },
  {
   "cell_type": "markdown",
   "id": "48c01be1",
   "metadata": {},
   "source": [
    "# Deployment pipeline"
   ]
  },
  {
   "cell_type": "code",
   "execution_count": 20,
   "id": "c2a8406a",
   "metadata": {
    "scrolled": false
   },
   "outputs": [
    {
     "name": "stdout",
     "output_type": "stream",
     "text": [
      "Loaded JSON: /home/brunolnetto/github/trouchet/lambda-api/deploy/api_usage_constraints.json\n",
      "Loaded JSON: /home/brunolnetto/github/trouchet/lambda-api/deploy/trust_policy.json\n",
      "Starting execution of Deployment of ML solution...\n",
      "Starting execution of ECR image upload...\n",
      "Logging in on ECR account...\n",
      "Creating ECR image...\n",
      "Building docker image...\n",
      "Tagging docker image...\n",
      "Pushing docker image to ECR...\n",
      "Finished execution of ECR image upload.\n",
      "Time taken: 63.16 seconds\n",
      "Starting execution of IAM policies update...\n",
      "Finished execution of IAM policies update.\n",
      "Time taken: 5.97 seconds\n",
      "Starting execution of Lambda function deployment...\n",
      "Creating Lambda Function test_function...\n",
      "Lambda deployment is still in progress. Waiting...\n",
      "Lambda deployment is still in progress. Waiting...\n",
      "Lambda deployment is still in progress. Waiting...\n",
      "Lambda deployment is still in progress. Waiting...\n",
      "Lambda function deployment duration: 16.16 seconds\n",
      "Finished execution of Lambda function deployment.\n",
      "Time taken: 23.60 seconds\n",
      "Starting execution of API endpoint deployment...\n",
      "Finished execution of API endpoint deployment.\n",
      "Time taken: 4.65 seconds\n",
      "Finished execution of Deployment of ML solution.\n",
      "Time taken: 97.66 seconds\n"
     ]
    }
   ],
   "source": [
    "from os import getcwd\n",
    "from deploy.core import do_deploy\n",
    "\n",
    "image_name='lambda-api-example'\n",
    "lambda_name='test_function'\n",
    "lambda_description='A test Lambda function'\n",
    "api_name='my-api'\n",
    "api_endpoint='predict'\n",
    "api_stage='test'\n",
    "lambda_method_verb='POST'\n",
    "\n",
    "activity_info_ = {\n",
    "    'image_name': lambda_name,\n",
    "    \"lambda_function_name\": lambda_name,\n",
    "    'lambda_function_description': lambda_description,\n",
    "    \"rest_api_name\": api_name,\n",
    "    'endpoint': api_endpoint,\n",
    "    'method_verb': lambda_method_verb,\n",
    "    'stage': api_stage\n",
    "}\n",
    "\n",
    "# Load environment variables from .env\n",
    "base_path=getcwd()+'/deploy'\n",
    "\n",
    "configuration_info_={\n",
    "    'environment_path': base_path+'/.env',\n",
    "    'trust_policy_path': base_path,\n",
    "    'usage_constraints_path': base_path\n",
    "}\n",
    "\n",
    "deployment_info=do_deploy(activity_info_, configuration_info_)"
   ]
  },
  {
   "cell_type": "code",
   "execution_count": 3,
   "id": "b908707b",
   "metadata": {},
   "outputs": [
    {
     "name": "stdout",
     "output_type": "stream",
     "text": [
      "Loaded JSON: /home/brunolnetto/github/trouchet/lambda-api/deploy/api_usage_constraints.json\n",
      "Loaded JSON: /home/brunolnetto/github/trouchet/lambda-api/deploy/trust_policy.json\n",
      "Starting execution of Deployment of ML solution...\n",
      "Starting execution of ECR image upload...\n",
      "Logging in on ECR account...\n",
      "Deleting existent ECR image...\n",
      "Creating ECR image...\n",
      "Building docker image...\n",
      "Tagging docker image...\n",
      "Pushing docker image to ECR...\n",
      "Finished execution of ECR image upload.\n",
      "Time taken: 51.74 seconds\n",
      "Starting execution of IAM policies update...\n",
      "Finished execution of IAM policies update.\n",
      "Time taken: 0.91 seconds\n",
      "Starting execution of Lambda function deployment...\n",
      "Updating Lambda Function test_function...\n",
      "Finished execution of Lambda function deployment.\n",
      "Time taken: 1.74 seconds\n",
      "Starting execution of API endpoint deployment...\n",
      "An error occurred (ConflictException) when calling the CreateUsagePlanKey operation: Usage Plan 53isao cannot be added because API Key xxnm3md6p0 cannot reference multiple Usage Plans with the same API Stage: wvghgimrq7:test\n",
      "Finished execution of API endpoint deployment.\n",
      "Time taken: 3.51 seconds\n",
      "Finished execution of Deployment of ML solution.\n",
      "Time taken: 58.10 seconds\n"
     ]
    }
   ],
   "source": [
    "from os import getcwd \n",
    "from deploy.core import deploy_application\n",
    "\n",
    "info_environment_path=getcwd()+'/.env'\n",
    "\n",
    "deployment_info=deploy_application(info_environment_path)"
   ]
  },
  {
   "cell_type": "code",
   "execution_count": 6,
   "id": "5a22b680",
   "metadata": {},
   "outputs": [
    {
     "name": "stdout",
     "output_type": "stream",
     "text": [
      "Deployment information saved to deployment_info.json\n"
     ]
    }
   ],
   "source": [
    "from json import dump\n",
    "\n",
    "from os import getcwd\n",
    "from os import getenv\n",
    "from dotenv import load_dotenv\n",
    "\n",
    "info_environment_path=getcwd()+'/.env'\n",
    "\n",
    "load_dotenv(info_environment_path)\n",
    "lambda_method_verb=getenv('LAMBDA_METHOD_VERB')\n",
    "\n",
    "# Retrieve information from deployment response\n",
    "api_key=deployment_info['api_key']\n",
    "api_url = deployment_info['api_url']\n",
    "\n",
    "deployment_response = {\n",
    "    'api_key': api_key,\n",
    "    'api_url': api_url,\n",
    "    'method_verb': lambda_method_verb,\n",
    "    # Add other information as needed\n",
    "}\n",
    "\n",
    "# Save the deployment information to a JSON file\n",
    "deployment_info_filename = \"deployment_info.json\"\n",
    "\n",
    "with open(deployment_info_filename, 'w') as json_file:\n",
    "    dump(deployment_response, json_file)\n",
    "\n",
    "print(f\"Deployment information saved to {deployment_info_filename}\")"
   ]
  },
  {
   "cell_type": "code",
   "execution_count": 7,
   "id": "8ffeca41",
   "metadata": {},
   "outputs": [
    {
     "name": "stdout",
     "output_type": "stream",
     "text": [
      "Deployment information loaded from deployment_info.json\n"
     ]
    }
   ],
   "source": [
    "from json import load\n",
    "\n",
    "# Save the deployment information to a JSON file\n",
    "deployment_info_filename = \"deployment_info.json\"\n",
    "\n",
    "with open(deployment_info_filename, 'r') as json_file:\n",
    "    json_payload=load(json_file)\n",
    "\n",
    "method_verb=json_payload['method_verb']\n",
    "api_key=json_payload['api_key']\n",
    "api_url=json_payload['api_url']\n",
    "\n",
    "print(f\"Deployment information loaded from {deployment_info_filename}\")"
   ]
  },
  {
   "cell_type": "code",
   "execution_count": 13,
   "id": "45266589",
   "metadata": {},
   "outputs": [],
   "source": [
    "from requests import post\n",
    "from deploy.utils.misc import timing\n",
    "\n",
    "\n",
    "def post_query(api_url_, api_key_, example_):\n",
    "    msg=f'Squared array of length {len(example_)}'\n",
    "    \n",
    "    @timing(msg)\n",
    "    def post_query_temp(api_url, api_key, example):\n",
    "        headers = {\n",
    "            'Content-type': 'application/json', \n",
    "            'x-api-key': api_key_,\n",
    "        }\n",
    "\n",
    "        resp = post(api_url_, headers=headers, json=example_)\n",
    "    \n",
    "        # Check the response and handle it accordingly\n",
    "        if resp.status_code == 200:\n",
    "            return resp.json()\n",
    "        else:\n",
    "            return resp.text\n",
    "\n",
    "    return post_query_temp(api_url_, api_key_, example_)"
   ]
  },
  {
   "cell_type": "code",
   "execution_count": 10,
   "id": "47d69e87",
   "metadata": {},
   "outputs": [
    {
     "name": "stdout",
     "output_type": "stream",
     "text": [
      "Starting execution of Squared array of length 12...\n",
      "Finished execution of Squared array of length 12.\n",
      "Time taken: 1.62 seconds\n",
      "[1, 4, 9, 16, 25, 36, 49, 64, 81, 100, 121, 144]\n"
     ]
    }
   ],
   "source": [
    "import json\n",
    "import numpy as np\n",
    "\n",
    "# Prepare the event to pass to the Lambda function\n",
    "example=[1,2,3,4,5,6,7,8,9,10,11,12]\n",
    "\n",
    "response=post_query(api_url, api_key, example)\n",
    "\n",
    "print(response)"
   ]
  },
  {
   "cell_type": "code",
   "execution_count": 41,
   "id": "ee891562",
   "metadata": {},
   "outputs": [
    {
     "name": "stdout",
     "output_type": "stream",
     "text": [
      "Starting execution of Squared array of length 0...\n",
      "Finished execution of Squared array of length 0.\n",
      "Time taken: 1.26 seconds\n",
      "Starting execution of Squared array of length 10000...\n",
      "Finished execution of Squared array of length 10000.\n",
      "Time taken: 1.15 seconds\n",
      "Starting execution of Squared array of length 20000...\n",
      "Finished execution of Squared array of length 20000.\n",
      "Time taken: 1.62 seconds\n",
      "Starting execution of Squared array of length 30000...\n",
      "Finished execution of Squared array of length 30000.\n",
      "Time taken: 2.07 seconds\n",
      "Starting execution of Squared array of length 40000...\n",
      "Finished execution of Squared array of length 40000.\n",
      "Time taken: 2.63 seconds\n",
      "Starting execution of Squared array of length 50000...\n",
      "Finished execution of Squared array of length 50000.\n",
      "Time taken: 2.86 seconds\n",
      "Starting execution of Squared array of length 60000...\n",
      "Finished execution of Squared array of length 60000.\n",
      "Time taken: 3.04 seconds\n",
      "Starting execution of Squared array of length 70000...\n",
      "Finished execution of Squared array of length 70000.\n",
      "Time taken: 3.36 seconds\n",
      "Starting execution of Squared array of length 80000...\n",
      "Finished execution of Squared array of length 80000.\n",
      "Time taken: 4.94 seconds\n",
      "Starting execution of Squared array of length 90000...\n",
      "Finished execution of Squared array of length 90000.\n",
      "Time taken: 2.95 seconds\n",
      "Starting execution of Squared array of length 100000...\n",
      "Finished execution of Squared array of length 100000.\n",
      "Time taken: 4.25 seconds\n",
      "Starting execution of Squared array of length 110000...\n",
      "Finished execution of Squared array of length 110000.\n",
      "Time taken: 3.52 seconds\n",
      "Starting execution of Squared array of length 120000...\n",
      "Finished execution of Squared array of length 120000.\n",
      "Time taken: 4.82 seconds\n",
      "Starting execution of Squared array of length 130000...\n",
      "Finished execution of Squared array of length 130000.\n",
      "Time taken: 5.05 seconds\n",
      "Starting execution of Squared array of length 140000...\n",
      "Finished execution of Squared array of length 140000.\n",
      "Time taken: 5.51 seconds\n",
      "Starting execution of Squared array of length 150000...\n",
      "Finished execution of Squared array of length 150000.\n",
      "Time taken: 5.63 seconds\n",
      "Starting execution of Squared array of length 160000...\n",
      "Finished execution of Squared array of length 160000.\n",
      "Time taken: 5.98 seconds\n",
      "Starting execution of Squared array of length 170000...\n",
      "Finished execution of Squared array of length 170000.\n",
      "Time taken: 6.28 seconds\n",
      "Starting execution of Squared array of length 180000...\n",
      "Finished execution of Squared array of length 180000.\n",
      "Time taken: 6.58 seconds\n",
      "Starting execution of Squared array of length 190000...\n",
      "Finished execution of Squared array of length 190000.\n",
      "Time taken: 6.92 seconds\n"
     ]
    }
   ],
   "source": [
    "# WIP\n",
    "import json\n",
    "import requests\n",
    "from about_time import about_time\n",
    "from numpy.random import rand\n",
    "\n",
    "# Prepare the event to pass to the Lambda function\n",
    "curr_example=[]\n",
    "range_len=20\n",
    "span_width=10000\n",
    "final_sizes=[]\n",
    "durations=[]\n",
    "\n",
    "with about_time() as total_t:\n",
    "    for size_multiplier in range(range_len):\n",
    "        with about_time() as single_t:\n",
    "            # Transform into json format\n",
    "            post_query(api_url, api_key, curr_example)\n",
    "        \n",
    "        lst_to_append=list(rand(span_width))\n",
    "        \n",
    "        final_sizes.append(len(curr_example))\n",
    "        \n",
    "        curr_example = curr_example + lst_to_append\n",
    "        \n",
    "        durations.append(single_t.duration_human)\n",
    "        "
   ]
  },
  {
   "cell_type": "code",
   "execution_count": 45,
   "id": "e861adeb",
   "metadata": {},
   "outputs": [
    {
     "data": {
      "image/png": "[encoded data removed]",
      "text/plain": [
       "<Figure size 1000x600 with 1 Axes>"
      ]
     },
     "metadata": {},
     "output_type": "display_data"
    }
   ],
   "source": [
    "import seaborn as sns\n",
    "import matplotlib.pyplot as plt\n",
    "\n",
    "# Your duration_values and final_sizes data\n",
    "duration_values = [duration.value for duration in durations]\n",
    "\n",
    "# Create a Seaborn plot\n",
    "sns.set(style=\"whitegrid\")\n",
    "plt.figure(figsize=(10, 6))\n",
    "sns.regplot(x=final_sizes, y=duration_values, marker='o', scatter_kws={'s': 80}, color='b', ci=None)\n",
    "plt.xlabel('List size length []')\n",
    "plt.ylabel('Duration [seconds]')\n",
    "plt.title('Duration vs. List size length')\n",
    "plt.show()"
   ]
  },
  {
   "cell_type": "code",
   "execution_count": null,
   "id": "90eac8f0",
   "metadata": {},
   "outputs": [],
   "source": []
  }
 ],
 "metadata": {
  "kernelspec": {
   "display_name": "Python 3 (ipykernel)",
   "language": "python",
   "name": "python3"
  },
  "language_info": {
   "codemirror_mode": {
    "name": "ipython",
    "version": 3
   },
   "file_extension": ".py",
   "mimetype": "text/x-python",
   "name": "python",
   "nbconvert_exporter": "python",
   "pygments_lexer": "ipython3",
   "version": "3.8.10"
  }
 },
 "nbformat": 4,
 "nbformat_minor": 5
}
