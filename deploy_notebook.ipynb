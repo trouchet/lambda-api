{
 "cells": [
  {
   "cell_type": "markdown",
   "id": "62a365fe",
   "metadata": {},
   "source": [
    "# Required information"
   ]
  },
  {
   "cell_type": "code",
   "execution_count": 1,
   "id": "712ec893",
   "metadata": {},
   "outputs": [],
   "source": [
    "import os\n",
    "from dotenv import load_dotenv\n",
    "\n",
    "# Load environment variables from .env\n",
    "load_dotenv()\n",
    "\n",
    "# Load environment variables from .env\n",
    "aws_account_id = os.getenv('AWS_ACCOUNT_ID')\n",
    "aws_region = os.getenv('AWS_REGION')\n",
    "\n",
    "aws_access_key = os.getenv('AWS_ACCESS_KEY')\n",
    "aws_secret_key = os.getenv('AWS_SECRET_KEY')\n",
    "\n",
    "s3_bucket_name = os.getenv('S3_BUCKET_NAME')\n",
    "s3_object_key = os.getenv('S3_OBJECT_KEY')\n",
    "\n",
    "## Specify the role name and trust policy for the Lambda service\n",
    "iam_role_name = os.getenv('IAM_ROLE_NAME')"
   ]
  },
  {
   "cell_type": "markdown",
   "id": "3a89dd27",
   "metadata": {},
   "source": [
    "## User-dependent solution variables"
   ]
  },
  {
   "cell_type": "code",
   "execution_count": 2,
   "id": "141cc26a",
   "metadata": {},
   "outputs": [],
   "source": [
    "# User setup\n",
    "\n",
    "# Platform\n",
    "ecr_image_name = \"serverless-example\"\n",
    "\n",
    "# Function description\n",
    "func_description='A test Lambda function'\n",
    "\n",
    "# API\n",
    "endpoint = \"predict\"\n",
    "method_verb='POST'\n",
    "stage_name = \"test\""
   ]
  },
  {
   "cell_type": "markdown",
   "id": "b441cf01",
   "metadata": {},
   "source": [
    "## Protocols and performance"
   ]
  },
  {
   "cell_type": "code",
   "execution_count": 4,
   "id": "2bd5ffe2",
   "metadata": {},
   "outputs": [
    {
     "name": "stdout",
     "output_type": "stream",
     "text": [
      "Loaded JSON:\n",
      "{'Version': '2012-10-17', 'Statement': [{'Effect': 'Allow', 'Principal': {'Service': 'lambda.amazonaws.com'}, 'Action': 'sts:AssumeRole'}]}\n",
      "Loaded JSON:\n",
      "{'rate_limits': {'burstLimit': 10, 'rateLimit': 10.0}, 'quota': {'limit': 100, 'period': 'DAY'}}\n"
     ]
    }
   ],
   "source": [
    "# AWS setup\n",
    "from os import getcwd\n",
    "from deploy_scripts.utils.misc import get_lambda_usage_constraints, get_trust_policy\n",
    "\n",
    "cwd=getcwd()\n",
    "\n",
    "## Specify the path to the JSON file\n",
    "## NOTE: Update with the actual path to your JSON file\n",
    "trust_policy_file_path = cwd+\"/deploy_scripts\"\n",
    "trust_policy = get_trust_policy(trust_policy_file_path)\n",
    "\n",
    "## Rate limits: Harsh since this will be public facing\n",
    "## Quota: Low daily limits for the same reason\n",
    "usage_constraints_file_path = cwd+\"/deploy_scripts\"\n",
    "usage_constraints = get_lambda_usage_constraints(usage_constraints_file_path)\n",
    "\n",
    "## AWS Lambda execution role \n",
    "lambda_policy_arn = 'arn:aws:iam::aws:policy/service-role/AWSLambdaBasicExecutionRole'\n"
   ]
  },
  {
   "cell_type": "markdown",
   "id": "234bc9e0",
   "metadata": {},
   "source": [
    "# Clients"
   ]
  },
  {
   "cell_type": "code",
   "execution_count": 3,
   "id": "f223d63e",
   "metadata": {},
   "outputs": [],
   "source": [
    "import boto3\n",
    "\n",
    "# Set up the IAM client\n",
    "iam_client = boto3.client('iam', region_name=aws_region)\n",
    "\n",
    "# Set up the Lambda client\n",
    "lambda_client = boto3.client('lambda', region_name=aws_region)\n",
    "\n",
    "# Set up the API Gateway client\n",
    "gateway_client = boto3.client('apigateway', region_name=aws_region)"
   ]
  },
  {
   "cell_type": "markdown",
   "id": "9f02843c",
   "metadata": {},
   "source": [
    "# Development steps\n",
    "\n",
    "1. IAM role image handling;\n",
    "2. ECR image\n",
    "3. Lambda function creation;\n",
    "4. API Gateway"
   ]
  },
  {
   "cell_type": "markdown",
   "id": "81bcb91b",
   "metadata": {},
   "source": [
    "## IAM Role Image Handling"
   ]
  },
  {
   "cell_type": "markdown",
   "id": "4b46ce62",
   "metadata": {},
   "source": [
    "The first step: create a user on IAM with below permissions:\n",
    "\n",
    "- **IAMUserChangePassword**: a default permission to change password \n",
    "- **IAMFullAccess**: Allows IAM management\n",
    "- **AmazonEC2ContainerRegistryFullAccess**: Allows uploading image to ECR\n",
    "- **AWSLambda_FullAccess**: Allows access to specific Lambda function given a role \n",
    "- **AmazonAPIGatewayAdministrator**: Allows access to specific API Gateway handling \n",
    "\n"
   ]
  },
  {
   "cell_type": "code",
   "execution_count": 6,
   "id": "2960c323",
   "metadata": {},
   "outputs": [
    {
     "name": "stdout",
     "output_type": "stream",
     "text": [
      "Starting execution of Role policy attachment...\n",
      "Finished execution of Role policy attachment.\n",
      "Time taken: 0.91 seconds\n"
     ]
    },
    {
     "data": {
      "text/plain": [
       "'arn:aws:iam::060004687794:role/lambda-exec-role'"
      ]
     },
     "execution_count": 6,
     "metadata": {},
     "output_type": "execute_result"
    }
   ],
   "source": [
    "from deploy_scripts.utils.iam_utils import try_attach_role_policy\n",
    "\n",
    "# The id \"role_arn\" will be used on lambda deployment\n",
    "role_arn = try_attach_role_policy(iam_client, iam_role_name, trust_policy)\n",
    "\n",
    "role_arn"
   ]
  },
  {
   "cell_type": "markdown",
   "id": "cbbd440a",
   "metadata": {},
   "source": [
    "## ECR image"
   ]
  },
  {
   "cell_type": "markdown",
   "id": "bf05f47b",
   "metadata": {},
   "source": [
    "Run 2 cells below with key stroke _Shift+Enter_ to upload the docker image to ECR.\n",
    "\n",
    "- Log in on ECR account;\n",
    "- Delete existent ECR image;\n",
    "- Create ECR image;\n",
    "- Build docker image;\n",
    "- Tag docker image;\n",
    "- Push docker image to ECR."
   ]
  },
  {
   "cell_type": "code",
   "execution_count": 7,
   "id": "a8f4dba1",
   "metadata": {
    "scrolled": true
   },
   "outputs": [
    {
     "name": "stdout",
     "output_type": "stream",
     "text": [
      "Starting execution of Docker image upload on AWS ECR...\n",
      "Logging in on ECR account...\n",
      "Deleting existent ECR image...\n",
      "Creating ECR image...\n",
      "Building docker image...\n",
      "Tagging docker image...\n",
      "Pushing docker image to ECR...\n",
      "Finished execution of Docker image upload on AWS ECR.\n",
      "Time taken: 53.86 seconds\n"
     ]
    }
   ],
   "source": [
    "from deploy_scripts.utils.ecr_utils import pipe_docker_image_to_ecr\n",
    "\n",
    "pipe_docker_image_to_ecr(aws_account_id, aws_region, ecr_image_name)"
   ]
  },
  {
   "cell_type": "markdown",
   "id": "130dc589",
   "metadata": {},
   "source": [
    "# Lambda function creation"
   ]
  },
  {
   "cell_type": "markdown",
   "id": "a63b4028",
   "metadata": {},
   "source": [
    "Run 2 cells below with key stroke _Shift+Enter_ to generate a Lambda Function based on Docker Image"
   ]
  },
  {
   "cell_type": "markdown",
   "id": "305c18e4",
   "metadata": {},
   "source": [
    "### Create function"
   ]
  },
  {
   "cell_type": "code",
   "execution_count": 9,
   "id": "1cd6a1eb",
   "metadata": {},
   "outputs": [
    {
     "data": {
      "text/plain": [
       "{'ResponseMetadata': {'RequestId': 'cba4c86a-905d-40b5-97a3-a5a5f4f2b1de',\n",
       "  'HTTPStatusCode': 201,\n",
       "  'HTTPHeaders': {'date': 'Tue, 26 Sep 2023 17:49:06 GMT',\n",
       "   'content-type': 'application/json',\n",
       "   'content-length': '1102',\n",
       "   'connection': 'keep-alive',\n",
       "   'x-amzn-requestid': 'cba4c86a-905d-40b5-97a3-a5a5f4f2b1de'},\n",
       "  'RetryAttempts': 0},\n",
       " 'FunctionName': 'lambda-fn-serverless-example',\n",
       " 'FunctionArn': 'arn:aws:lambda:us-east-1:060004687794:function:lambda-fn-serverless-example',\n",
       " 'Role': 'arn:aws:iam::060004687794:role/lambda-exec-role',\n",
       " 'CodeSize': 0,\n",
       " 'Description': 'A test Lambda function',\n",
       " 'Timeout': 10,\n",
       " 'MemorySize': 256,\n",
       " 'LastModified': '2023-09-26T17:49:06.149+0000',\n",
       " 'CodeSha256': '97a2a21e7ab12b74d92b805f989fcf4bdf8feef363bd1b89c4b1a5f0d270edbc',\n",
       " 'Version': '26',\n",
       " 'TracingConfig': {'Mode': 'PassThrough'},\n",
       " 'RevisionId': '62fbd2a6-9ce7-49ba-9ecf-de9ef8f063af',\n",
       " 'State': 'Pending',\n",
       " 'StateReason': 'The function is being created.',\n",
       " 'StateReasonCode': 'Creating',\n",
       " 'PackageType': 'Image',\n",
       " 'Architectures': ['x86_64'],\n",
       " 'EphemeralStorage': {'Size': 512},\n",
       " 'SnapStart': {'ApplyOn': 'None', 'OptimizationStatus': 'Off'}}"
      ]
     },
     "execution_count": 9,
     "metadata": {},
     "output_type": "execute_result"
    }
   ],
   "source": [
    "from deploy_scripts.utils.ecr_utils import build_ecr_url\n",
    "from deploy_scripts.utils.lambda_utils import delete_lambda_function, create_lambda_function\n",
    "\n",
    "# Function name (not public facing)\n",
    "lambda_function_name = f'lambda-fn-{ecr_image_name}'\n",
    "\n",
    "# Retrieve (if already exists) or create a new Lambda function\n",
    "routed_url = build_ecr_url(aws_account_id, aws_region, ecr_image_name)\n",
    "deletion_response = delete_lambda_function(lambda_client, lambda_function_name)\n",
    "create_response = create_lambda_function(lambda_client, lambda_function_name, func_description, routed_url, role_arn)\n",
    "\n",
    "create_response"
   ]
  },
  {
   "cell_type": "markdown",
   "id": "f1c32e87",
   "metadata": {},
   "source": [
    "### Get function"
   ]
  },
  {
   "cell_type": "code",
   "execution_count": 18,
   "id": "85eac6fb",
   "metadata": {},
   "outputs": [
    {
     "data": {
      "text/plain": [
       "{'ResponseMetadata': {'RequestId': '17481544-a58f-4d37-b067-e798077c3862',\n",
       "  'HTTPStatusCode': 200,\n",
       "  'HTTPHeaders': {'date': 'Tue, 26 Sep 2023 17:49:23 GMT',\n",
       "   'content-type': 'application/json',\n",
       "   'content-length': '1418',\n",
       "   'connection': 'keep-alive',\n",
       "   'x-amzn-requestid': '17481544-a58f-4d37-b067-e798077c3862'},\n",
       "  'RetryAttempts': 0},\n",
       " 'Configuration': {'FunctionName': 'lambda-fn-serverless-example',\n",
       "  'FunctionArn': 'arn:aws:lambda:us-east-1:060004687794:function:lambda-fn-serverless-example',\n",
       "  'Role': 'arn:aws:iam::060004687794:role/lambda-exec-role',\n",
       "  'CodeSize': 0,\n",
       "  'Description': 'A test Lambda function',\n",
       "  'Timeout': 10,\n",
       "  'MemorySize': 256,\n",
       "  'LastModified': '2023-09-26T17:49:06.149+0000',\n",
       "  'CodeSha256': '97a2a21e7ab12b74d92b805f989fcf4bdf8feef363bd1b89c4b1a5f0d270edbc',\n",
       "  'Version': '$LATEST',\n",
       "  'TracingConfig': {'Mode': 'PassThrough'},\n",
       "  'RevisionId': '18acf737-c5e8-4ab8-8c9b-1f19bf7e8a56',\n",
       "  'State': 'Active',\n",
       "  'LastUpdateStatus': 'Successful',\n",
       "  'PackageType': 'Image',\n",
       "  'Architectures': ['x86_64'],\n",
       "  'EphemeralStorage': {'Size': 512},\n",
       "  'SnapStart': {'ApplyOn': 'None', 'OptimizationStatus': 'Off'}},\n",
       " 'Code': {'RepositoryType': 'ECR',\n",
       "  'ImageUri': '060004687794.dkr.ecr.us-east-1.amazonaws.com/serverless-example:latest',\n",
       "  'ResolvedImageUri': '060004687794.dkr.ecr.us-east-1.amazonaws.com/serverless-example@sha256:97a2a21e7ab12b74d92b805f989fcf4bdf8feef363bd1b89c4b1a5f0d270edbc'}}"
      ]
     },
     "execution_count": 18,
     "metadata": {},
     "output_type": "execute_result"
    }
   ],
   "source": [
    "from deploy_scripts.utils.lambda_utils import get_lambda_function\n",
    "\n",
    "get_response = get_lambda_function(lambda_client, lambda_function_name)\n",
    "\n",
    "get_response"
   ]
  },
  {
   "cell_type": "markdown",
   "id": "1db0e723",
   "metadata": {},
   "source": [
    "### Test lambda function"
   ]
  },
  {
   "cell_type": "code",
   "execution_count": 19,
   "id": "c65da515",
   "metadata": {},
   "outputs": [
    {
     "name": "stdout",
     "output_type": "stream",
     "text": [
      "{'statusCode': 200, 'headers': {'Content-Type': 'application/json'}, 'body': '[1, 4, 9, 16, 25]', 'isBase64Encoded': False}\n"
     ]
    }
   ],
   "source": [
    "from json import dumps, loads\n",
    "\n",
    "# Prepare the event to pass to the Lambda function\n",
    "example=[1, 2, 3, 4, 5]\n",
    "\n",
    "# Transform into json format\n",
    "payload=dumps({\"body\": example})\n",
    "\n",
    "# Invoke the Lambda function\n",
    "response = lambda_client.invoke(\n",
    "    FunctionName=lambda_function_name,\n",
    "    InvocationType='RequestResponse',\n",
    "    Payload=payload\n",
    ")\n",
    "\n",
    "# Get the response from the Lambda function\n",
    "result = loads(response['Payload'].read())\n",
    "\n",
    "print(result)"
   ]
  },
  {
   "cell_type": "markdown",
   "id": "33fda8c7",
   "metadata": {},
   "source": [
    "## API Gateway setup"
   ]
  },
  {
   "cell_type": "markdown",
   "id": "6ad18b80",
   "metadata": {},
   "source": [
    "Run the cells below to set the Lambda Function as an Endpoint on API Gateway."
   ]
  },
  {
   "cell_type": "code",
   "execution_count": 28,
   "id": "42bb068e",
   "metadata": {},
   "outputs": [
    {
     "name": "stdout",
     "output_type": "stream",
     "text": [
      "Deleted API with name 'lambda-fn-serverless-example-api' and ID 'koakf4hafh'\n",
      "Starting execution of Deployment of REST API...\n",
      "Finished execution of Deployment of REST API.\n",
      "Time taken: 3.44 seconds\n"
     ]
    },
    {
     "data": {
      "text/plain": [
       "{'url': 'https://epi3e9g4w8.execute-api.us-east-1.amazonaws.com/test/predict/',\n",
       " 'api_key': '7xvtVoJSjU3kP0Bb7MxOI5biL3uEnDuU5GLaraNo',\n",
       " 'usage_plan_id': 'sbhk8t',\n",
       " 'rest_api_id': 'epi3e9g4w8',\n",
       " 'arn': 'arn:aws:execute-api:us-east-1:060004687794:epi3e9g4w8/*'}"
      ]
     },
     "execution_count": 28,
     "metadata": {},
     "output_type": "execute_result"
    }
   ],
   "source": [
    "from deploy_scripts.utils.api_gateway_utils import deploy_rest_api, build_api_url, add_apigateway_permission\n",
    "from deploy_scripts.utils.lambda_utils import get_lambda_arn, build_lambda_uri\n",
    "from deploy_scripts.utils.api_gateway_utils import delete_apis_by_name, has_api\n",
    "\n",
    "# Defines the name of the API (not public facing)\n",
    "rest_api_name = lambda_function_name + '-api'\n",
    "\n",
    "delete_apis_by_name(gateway_client, rest_api_name)\n",
    "\n",
    "# Define the name of the API (not public facing)\n",
    "rest_api_name = lambda_function_name + '-api'\n",
    "\n",
    "# Get the Lambda function ARN\n",
    "lambda_arn = get_lambda_arn(lambda_client, lambda_function_name)\n",
    "\n",
    "# Set up integration with the Lambda function\n",
    "lambda_uri = build_lambda_uri(aws_region, lambda_arn)\n",
    "\n",
    "deployment_reponse = deploy_rest_api(\\\n",
    "    gateway_client,  aws_account_id, aws_region, \\\n",
    "    lambda_uri, rest_api_name, endpoint, method_verb, \\\n",
    "    usage_constraints, stage_name \\\n",
    ")\n",
    "\n",
    "api_arn=deployment_reponse['arn']\n",
    "\n",
    "try: \n",
    "    add_apigateway_permission(lambda_client, lambda_function_name, api_arn)\n",
    "except lambda_client.exceptions.ResourceConflictException:\n",
    "    pass\n",
    "\n",
    "deployment_reponse"
   ]
  },
  {
   "cell_type": "code",
   "execution_count": 30,
   "id": "798ed4dc",
   "metadata": {},
   "outputs": [
    {
     "name": "stdout",
     "output_type": "stream",
     "text": [
      "7xvtVoJSjU3kP0Bb7MxOI5biL3uEnDuU5GLaraNo\n",
      "https://epi3e9g4w8.execute-api.us-east-1.amazonaws.com/test/predict/\n"
     ]
    }
   ],
   "source": [
    "api_key=deployment_reponse['api_key']\n",
    "rest_api_id=deployment_reponse['rest_api_id']\n",
    "\n",
    "# The URL by default will follow this pattern:\n",
    "api_url = build_api_url(rest_api_id, aws_region, endpoint, stage_name)\n",
    "\n",
    "print(api_key)\n",
    "print(api_url)\n"
   ]
  },
  {
   "cell_type": "code",
   "execution_count": 32,
   "id": "df04543f",
   "metadata": {},
   "outputs": [
    {
     "name": "stdout",
     "output_type": "stream",
     "text": [
      "Deployment information saved to deployment_info.json\n"
     ]
    }
   ],
   "source": [
    "import json\n",
    "\n",
    "deployment_info = {\n",
    "    'api_key': api_key,\n",
    "    'api_url': api_url,\n",
    "    'method_verb': method_verb,\n",
    "    # Add other information as needed\n",
    "}\n",
    "\n",
    "# Save the deployment information to a JSON file\n",
    "deployment_info_filename = \"deployment_info.json\"\n",
    "\n",
    "with open(deployment_info_filename, 'w') as json_file:\n",
    "    json.dump(deployment_info, json_file)\n",
    "\n",
    "print(f\"Deployment information saved to {deployment_info_filename}\")"
   ]
  },
  {
   "cell_type": "markdown",
   "id": "7feb4dea",
   "metadata": {},
   "source": [
    "### Test API Gateway endpoint"
   ]
  },
  {
   "cell_type": "code",
   "execution_count": 25,
   "id": "c29513cd",
   "metadata": {},
   "outputs": [
    {
     "data": {
      "text/plain": [
       "[1, 4, 9, 16, 25]"
      ]
     },
     "execution_count": 25,
     "metadata": {},
     "output_type": "execute_result"
    }
   ],
   "source": [
    "import json\n",
    "import requests\n",
    "\n",
    "# Prepare the event to pass to the Lambda function\n",
    "example=[1, 2, 3, 4, 5]\n",
    "\n",
    "# Transform into json format\n",
    "payload=json.dumps({\"body\": example})\n",
    "\n",
    "headers = {\n",
    "    'Content-type': 'application/json', \n",
    "    'x-api-key': api_key,\n",
    "}\n",
    "\n",
    "resp = requests.post(api_url, headers=headers, json=example)\n",
    "resp.json()\n"
   ]
  },
  {
   "cell_type": "markdown",
   "id": "48c01be1",
   "metadata": {},
   "source": [
    "# Deployment pipeline"
   ]
  },
  {
   "cell_type": "code",
   "execution_count": 26,
   "id": "4be91f45",
   "metadata": {},
   "outputs": [],
   "source": [
    "from deploy_scripts.utils.misc import get_lambda_usage_constraints, \\\n",
    "    get_trust_policy\n",
    "from deploy_scripts.utils.iam_utils import try_attach_role_policy\n",
    "from deploy_scripts.utils.ecr_utils import pipe_docker_image_to_ecr\n",
    "from deploy_scripts.utils.lambda_utils import get_lambda_function_name, \\\n",
    "    deploy_lambda_function, \\\n",
    "    delete_lambda_function, \\\n",
    "    get_lambda_arn, \\\n",
    "    build_lambda_uri\n",
    "from deploy_scripts.utils.api_gateway_utils import delete_apis_by_name, \\\n",
    "    deploy_rest_api, \\\n",
    "    add_apigateway_permission\n",
    "from deploy_scripts.utils.misc import timing\n",
    "\n",
    "def do_ecr_update(aws_account_id_, aws_region_, ecr_image_name_):\n",
    "    # The id \"role_arn\" will be used on lambda deployment\n",
    "    pipe_docker_image_to_ecr(aws_account_id_, aws_region_, ecr_image_name_)\n",
    "\n",
    "def do_iam_update(iam_client_, iam_role_name_, trust_policy_file_path):\n",
    "    trust_policy = get_trust_policy(trust_policy_file_path)\n",
    "    \n",
    "    # The id \"role_arn\" will be used on lambda deployment\n",
    "    role_arn = try_attach_role_policy(iam_client_, iam_role_name_, trust_policy)\n",
    "    \n",
    "    return role_arn\n",
    "\n",
    "def do_lambda_update(\n",
    "    lambda_client_, func_description_, ecr_image_name_, \\\n",
    "    aws_account_id_, aws_region_, role_arn_\n",
    "):\n",
    "    # Gets lambda function according to ecr image name\n",
    "    lambda_function_name_ = get_lambda_function_name(ecr_image_name_)\n",
    "\n",
    "    # Deletes lambda function according to ecr image name\n",
    "    delete_lambda_function(lambda_client_, lambda_function_name_)\n",
    "\n",
    "    # Deploys lambda function of ECR image\n",
    "    deploy_lambda_function(\n",
    "            lambda_client_, func_description_, \\\n",
    "            aws_account_id_, aws_region_, \\\n",
    "            ecr_image_name_, role_arn_\n",
    "    )\n",
    "    \n",
    "    # Get the Lambda function ARN\n",
    "    lambda_arn = get_lambda_arn(lambda_client_, lambda_function_name_)\n",
    "\n",
    "    # Set up integration with the Lambda function\n",
    "    lambda_uri = build_lambda_uri(aws_region_, lambda_arn)\n",
    "    \n",
    "    return lambda_function_name_, lambda_uri\n",
    "    \n",
    "def do_api_update(\n",
    "    gateway_client_, aws_account_id_, aws_region_, \\\n",
    "    lambda_uri_, lambda_function_name_, \\\n",
    "    endpoint_, method_verb_, stage_name_, usage_constraints_\n",
    "):\n",
    "    # Defines the name of the API (not public facing)\n",
    "    rest_api_name_ = lambda_function_name_ + '-api'\n",
    "\n",
    "    # Delete previous API Gateway\n",
    "    # FIX: This is too harsh. Try update it! \n",
    "    delete_apis_by_name(gateway_client, rest_api_name_)\n",
    "\n",
    "    # Deploys lambda function as API Gateway endpoint\n",
    "    api_deployment_reponse = deploy_rest_api(\\\n",
    "        gateway_client_, aws_account_id_, aws_region_, \\\n",
    "        lambda_uri_, rest_api_name_,  endpoint_, method_verb_, \\\n",
    "        stage_name_, usage_constraints_, \n",
    "    )\n",
    "    \n",
    "    return api_deployment_reponse\n",
    "\n",
    "def do_api_allowance(l_client, lambda_function_name, api_arn):\n",
    "    try: \n",
    "        add_apigateway_permission(l_client, lambda_function_name, api_arn)\n",
    "    except l_client.exceptions.ResourceConflictException:\n",
    "        pass\n",
    "\n",
    "@timing('Deployment of ML solution')\n",
    "def deploy_solution(clients, account_info, activity_info, configuration_paths):\n",
    "    # Extract metadata\n",
    "    \n",
    "    # Clients\n",
    "    iam_client_=clients['iam']\n",
    "    gateway_client_=clients['api_gateway']\n",
    "    lambda_client_=clients['lambda']\n",
    "    \n",
    "    # AWS account information\n",
    "    aws_account_id_=account_info['account_id']\n",
    "    aws_region_=account_info['region']\n",
    "    \n",
    "    # Activity information\n",
    "    iam_role_name_=activity_info['iam_role']\n",
    "    ecr_image_name_=activity_info['image_name']\n",
    "    func_description_=activity_info['lambda_function_description']\n",
    "    endpoint_=activity_info['endpoint']\n",
    "    method_verb_=activity_info['method']\n",
    "    stage_name_=activity_info['stage']\n",
    "    \n",
    "    usage_constraints_file_path=configuration_paths['usage_constraints']\n",
    "    trust_policy_file_path=configuration_paths['trust_policy']\n",
    "    \n",
    "    # Deployment pipeline steps: \n",
    "    \n",
    "    # 1. Creates docker image and uploads to ECR\n",
    "    do_ecr_update(aws_account_id_, aws_region_, ecr_image_name_)\n",
    "    \n",
    "    # 2. Updates iam permissions\n",
    "    role_arn_=do_iam_update(iam_client_, iam_role_name_, trust_policy_file_path)\n",
    "    \n",
    "    # 3. Downloads respective ECR image and links to an\n",
    "    lambda_function_name_, lambda_uri_=do_lambda_update(\n",
    "        lambda_client_, func_description_, ecr_image_name_, \\\n",
    "        aws_account_id_, aws_region_, role_arn_\n",
    "    )\n",
    "    \n",
    "    # 4. Updates API Gateway endpoint\n",
    "    ## Rate limits: Harsh since this will be public facing\n",
    "    ## Quota: Low daily limits for the same reason\n",
    "    usage_constraints = get_lambda_usage_constraints(usage_constraints_file_path)    \n",
    "    \n",
    "    api_deployment_reponse=do_api_update(\n",
    "        gateway_client_, aws_account_id_, aws_region_,\n",
    "        lambda_uri_, lambda_function_name_, \n",
    "        endpoint_, method_verb_, stage_name_, usage_constraints\n",
    "    )\n",
    "    \n",
    "    # 5. Allow API Gateway to access Lambda function\n",
    "    api_arn=api_deployment_reponse['arn']\n",
    "    do_api_allowance(lambda_client_, lambda_function_name_, api_arn)\n",
    "    \n",
    "    # Retrieve information from \n",
    "    rest_api_id=api_deployment_reponse['rest_api_id']\n",
    "    api_key=api_deployment_reponse['api_key']\n",
    "    \n",
    "    # The URL by default will follow this pattern:\n",
    "    api_url = build_api_url(rest_api_id, aws_region_, endpoint_, stage_name_)\n",
    "    \n",
    "    return {\n",
    "        'api_key': api_key,\n",
    "        'api_url': api_url,\n",
    "        'method_verb': method_verb,\n",
    "    }"
   ]
  },
  {
   "cell_type": "code",
   "execution_count": 3,
   "id": "b52adbff",
   "metadata": {},
   "outputs": [
    {
     "name": "stdout",
     "output_type": "stream",
     "text": [
      "Starting execution of Deployment of ML solution...\n",
      "Starting execution of Docker image upload on AWS ECR...\n",
      "Logging in on ECR account...\n",
      "Deleting existent ECR image...\n",
      "Creating ECR image...\n",
      "Building docker image...\n",
      "Tagging docker image...\n",
      "Pushing docker image to ECR...\n",
      "Finished execution of Docker image upload on AWS ECR.\n",
      "Time taken: 43.05 seconds\n",
      "Loaded JSON:\n",
      "{'Version': '2012-10-17', 'Statement': [{'Effect': 'Allow', 'Principal': {'Service': 'lambda.amazonaws.com'}, 'Action': 'sts:AssumeRole'}]}\n",
      "Starting execution of Role policy attachment...\n",
      "Finished execution of Role policy attachment.\n",
      "Time taken: 0.94 seconds\n",
      "Starting execution of Lambda Function deployment...\n",
      "Lambda deployment is still in progress. Waiting...\n",
      "Lambda deployment is still in progress. Waiting...\n",
      "Lambda deployment is still in progress. Waiting...\n",
      "Lambda deployment is still in progress. Waiting...\n",
      "Lambda function deployment duration: 16.06 seconds\n",
      "Finished execution of Lambda Function deployment.\n",
      "Time taken: 22.16 seconds\n",
      "Loaded JSON:\n",
      "{'rate_limits': {'burstLimit': 10, 'rateLimit': 10.0}, 'quota': {'limit': 100, 'period': 'DAY'}}\n",
      "Deleted API with name 'lambda-fn-serverless-example-api' and ID 'pllfps9ba2'\n",
      "Finished execution of Deployment of ML solution.\n",
      "Time taken: 72.31 seconds\n"
     ]
    }
   ],
   "source": [
    "from os import getcwd\n",
    "from deploy_scripts.core import deploy_solution\n",
    "\n",
    "cwd=getcwd()\n",
    "\n",
    "account_info={\n",
    "    \"account_id\": aws_account_id,\n",
    "    \"region\": aws_region,\n",
    "    \"iam_role\":iam_role_name\n",
    "}\n",
    "\n",
    "activity_info={\n",
    "    \"image_name\": ecr_image_name,\n",
    "    \"lambda_function_description\": func_description,\n",
    "    \"endpoint\": endpoint,\n",
    "    \"method\": method_verb,\n",
    "    \"stage\": stage_name,\n",
    "}\n",
    "\n",
    "configuration_paths={\n",
    "    \"usage_constraints\": cwd+\"/deploy_scripts\",\n",
    "    \"trust_policy\": cwd+\"/deploy_scripts\"\n",
    "}\n",
    "\n",
    "deployment_info=deploy_solution(account_info, activity_info, configuration_paths)\n",
    "\n"
   ]
  },
  {
   "cell_type": "code",
   "execution_count": 14,
   "id": "5a22b680",
   "metadata": {},
   "outputs": [
    {
     "name": "stdout",
     "output_type": "stream",
     "text": [
      "Deployment information saved to deployment_info.json\n"
     ]
    }
   ],
   "source": [
    "from json import dump\n",
    "\n",
    "# Retrieve information from deployment response\n",
    "api_key=deployment_info['api_key']\n",
    "api_url = deployment_info['api_url']\n",
    "\n",
    "deployment_response = {\n",
    "    'api_key': api_key,\n",
    "    'api_url': api_url,\n",
    "    'method_verb': method_verb,\n",
    "    # Add other information as needed\n",
    "}\n",
    "\n",
    "# Save the deployment information to a JSON file\n",
    "deployment_info_filename = \"deployment_info.json\"\n",
    "\n",
    "with open(deployment_info_filename, 'w') as json_file:\n",
    "    dump(deployment_response, json_file)\n",
    "\n",
    "print(f\"Deployment information saved to {deployment_info_filename}\")"
   ]
  },
  {
   "cell_type": "code",
   "execution_count": null,
   "id": "5dc45e2e",
   "metadata": {},
   "outputs": [],
   "source": [
    "{\n",
    "    \"api_key\": \"CjpUvoeCsi36hwspXzxNt8qiMrw0mYcEJ6P6j9M9\", \n",
    "    \"api_url\": \"https://85zcfk2hog.execute-api.us-east-1.amazonaws.com/test/predict/\", \n",
    "    \"method_verb\": \"POST\"\n",
    "}"
   ]
  },
  {
   "cell_type": "code",
   "execution_count": 31,
   "id": "86af8852",
   "metadata": {},
   "outputs": [
    {
     "name": "stdout",
     "output_type": "stream",
     "text": [
      "Deployment information loaded from deployment_info.json\n"
     ]
    }
   ],
   "source": [
    "from json import load\n",
    "\n",
    "# Save the deployment information to a JSON file\n",
    "deployment_info_filename = \"deployment_info.json\"\n",
    "\n",
    "with open(deployment_info_filename, 'r') as json_file:\n",
    "    json_payload=load(json_file)\n",
    "\n",
    "method_verb=json_payload['method_verb']\n",
    "api_key=json_payload['api_key']\n",
    "api_url=json_payload['api_url']\n",
    "\n",
    "print(f\"Deployment information loaded from {deployment_info_filename}\")"
   ]
  },
  {
   "cell_type": "code",
   "execution_count": 32,
   "id": "e06dfbee",
   "metadata": {},
   "outputs": [
    {
     "data": {
      "text/plain": [
       "'https://85zcfk2hog.execute-api.us-east-1.amazonaws.com/test/predict/'"
      ]
     },
     "execution_count": 32,
     "metadata": {},
     "output_type": "execute_result"
    }
   ],
   "source": [
    "api_url"
   ]
  },
  {
   "cell_type": "code",
   "execution_count": 35,
   "id": "7d041e70",
   "metadata": {},
   "outputs": [
    {
     "name": "stdout",
     "output_type": "stream",
     "text": [
      "[1, 100, 9, 16, 25, 36]\n"
     ]
    }
   ],
   "source": [
    "import json\n",
    "import requests\n",
    "\n",
    "# Prepare the event to pass to the Lambda function\n",
    "example=[1, 10, 3, 4, 5, 6]\n",
    "\n",
    "# Transform into json format\n",
    "payload=json.dumps({\"body\": example})\n",
    "\n",
    "headers = {\n",
    "    'Content-type': 'application/json', \n",
    "    'x-api-key': api_key,\n",
    "}\n",
    "\n",
    "resp = requests.post(api_url, headers=headers, json=example)\n",
    "\n",
    "# Check the response and handle it accordingly\n",
    "if resp.status_code == 200:\n",
    "    response_data = resp.json()\n",
    "    print(response_data)\n",
    "else:\n",
    "    print(\"Request failed with status code:\", resp.status_code)\n",
    "    print(resp.text)\n",
    "\n"
   ]
  },
  {
   "cell_type": "code",
   "execution_count": null,
   "id": "3628bc7d",
   "metadata": {},
   "outputs": [],
   "source": []
  }
 ],
 "metadata": {
  "kernelspec": {
   "display_name": "Python 3 (ipykernel)",
   "language": "python",
   "name": "python3"
  },
  "language_info": {
   "codemirror_mode": {
    "name": "ipython",
    "version": 3
   },
   "file_extension": ".py",
   "mimetype": "text/x-python",
   "name": "python",
   "nbconvert_exporter": "python",
   "pygments_lexer": "ipython3",
   "version": "3.8.10"
  }
 },
 "nbformat": 4,
 "nbformat_minor": 5
}
