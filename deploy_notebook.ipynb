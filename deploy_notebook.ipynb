{
 "cells": [
  {
   "cell_type": "code",
   "execution_count": 2,
   "id": "bcd8b614",
   "metadata": {},
   "outputs": [],
   "source": [
    "import os\n",
    "import boto3\n",
    "import json\n",
    "import requests\n",
    "\n",
    "import sys\n",
    "sys.path.append(os.getcwd())"
   ]
  },
  {
   "cell_type": "markdown",
   "id": "62a365fe",
   "metadata": {},
   "source": [
    "# Required information"
   ]
  },
  {
   "cell_type": "code",
   "execution_count": 3,
   "id": "712ec893",
   "metadata": {},
   "outputs": [],
   "source": [
    "from dotenv import load_dotenv\n",
    "\n",
    "# Load environment variables from .env\n",
    "load_dotenv()\n",
    "\n",
    "# Load environment variables from .env\n",
    "aws_account_id = os.getenv('AWS_ACCOUNT_ID')\n",
    "\n",
    "aws_access_key = os.getenv('AWS_ACCESS_KEY')\n",
    "aws_secret_key = os.getenv('AWS_SECRET_KEY')\n",
    "aws_region = os.getenv('AWS_REGION')\n",
    "\n",
    "s3_bucket_name = os.getenv('S3_BUCKET_NAME')\n",
    "s3_object_key = os.getenv('S3_OBJECT_KEY')\n",
    "\n",
    "## Specify the role name and trust policy for the Lambda service\n",
    "iam_role_name = os.getenv('IAM_ROLE_NAME')"
   ]
  },
  {
   "cell_type": "markdown",
   "id": "3a89dd27",
   "metadata": {},
   "source": [
    "## User-dependent solution variables"
   ]
  },
  {
   "cell_type": "code",
   "execution_count": 4,
   "id": "141cc26a",
   "metadata": {},
   "outputs": [],
   "source": [
    "# User setup\n",
    "\n",
    "# Platform\n",
    "ecr_image_name = \"serverless-example\"\n",
    "\n",
    "# Function description\n",
    "func_description='SKLearn predict Lambda function'\n",
    "\n",
    "# API\n",
    "endpoint = \"predict\"\n",
    "method_verb='POST'\n",
    "stage = \"test\""
   ]
  },
  {
   "cell_type": "markdown",
   "id": "b441cf01",
   "metadata": {},
   "source": [
    "## Protocols and performance"
   ]
  },
  {
   "cell_type": "code",
   "execution_count": 5,
   "id": "2bd5ffe2",
   "metadata": {},
   "outputs": [
    {
     "name": "stdout",
     "output_type": "stream",
     "text": [
      "Loaded JSON:\n",
      "{'Version': '2012-10-17', 'Statement': [{'Effect': 'Allow', 'Principal': {'Service': 'lambda.amazonaws.com'}, 'Action': 'sts:AssumeRole'}]}\n",
      "Loaded JSON:\n",
      "{'rate_limits': {'burstLimit': 10, 'rateLimit': 10.0}, 'quota': {'limit': 100, 'period': 'DAY'}}\n"
     ]
    }
   ],
   "source": [
    "# AWS setup\n",
    "from deploy_utils.misc import load_JSON\n",
    "import os\n",
    "\n",
    "cwd=os.getcwd()\n",
    "\n",
    "## Specify the path to the JSON file\n",
    "## NOTE: Update with the actual path to your JSON file\n",
    "trust_policy_file_path = cwd+\"/\"+\"trust_policy.json\"\n",
    "trust_policy = load_JSON(trust_policy_file_path)\n",
    "\n",
    "## Rate limits: Harsh since this will be public facing\n",
    "## Quota: Low daily limits for the same reason\n",
    "usage_constraints_file_path = cwd+\"/\"+\"lambda_usage_constraints.json\"\n",
    "usage_constraints = load_JSON(usage_constraints_file_path)\n",
    "\n",
    "## AWS Lambda execution role \n",
    "lambda_policy_arn = 'arn:aws:iam::aws:policy/service-role/AWSLambdaBasicExecutionRole'\n"
   ]
  },
  {
   "cell_type": "code",
   "execution_count": 6,
   "id": "790e19db",
   "metadata": {},
   "outputs": [
    {
     "data": {
      "text/plain": [
       "{'rate_limits': {'burstLimit': 10, 'rateLimit': 10.0},\n",
       " 'quota': {'limit': 100, 'period': 'DAY'}}"
      ]
     },
     "execution_count": 6,
     "metadata": {},
     "output_type": "execute_result"
    }
   ],
   "source": [
    "usage_constraints"
   ]
  },
  {
   "cell_type": "markdown",
   "id": "234bc9e0",
   "metadata": {},
   "source": [
    "# Clients"
   ]
  },
  {
   "cell_type": "code",
   "execution_count": 7,
   "id": "f223d63e",
   "metadata": {},
   "outputs": [],
   "source": [
    "# Set up the IAM client\n",
    "iam_client = boto3.client('iam', region_name=aws_region)\n",
    "\n",
    "# Set up the Lambda client\n",
    "lambda_client = boto3.client('lambda', region_name=aws_region)\n",
    "\n",
    "# Set up the API Gateway client\n",
    "gateway_client = boto3.client('apigateway', region_name=aws_region)"
   ]
  },
  {
   "cell_type": "markdown",
   "id": "555cfc08",
   "metadata": {},
   "source": [
    "# Development steps\n",
    "\n",
    "- IAM role image handling;\n",
    "- ECR image\n",
    "- Lambda function creation;\n",
    "- API Gateway"
   ]
  },
  {
   "cell_type": "markdown",
   "id": "81bcb91b",
   "metadata": {},
   "source": [
    "## IAM Role Image Handling"
   ]
  },
  {
   "cell_type": "markdown",
   "id": "4b46ce62",
   "metadata": {},
   "source": [
    "The first step: create a user on IAM with below permissions:\n",
    "\n",
    "- **IAMUserChangePassword**: a default permission to change password \n",
    "- **IAMFullAccess**: Allows IAM management\n",
    "- **AmazonEC2ContainerRegistryFullAccess**: Allows uploading image to ECR\n",
    "- **AWSLambda_FullAccess**: Allows access to specific Lambda function given a role \n",
    "- **AmazonAPIGatewayAdministrator**: Allows access to specific API Gateway handling \n",
    "\n"
   ]
  },
  {
   "cell_type": "code",
   "execution_count": 8,
   "id": "2960c323",
   "metadata": {},
   "outputs": [
    {
     "data": {
      "text/plain": [
       "'arn:aws:iam::060004687794:role/lambda-exec-role'"
      ]
     },
     "execution_count": 8,
     "metadata": {},
     "output_type": "execute_result"
    }
   ],
   "source": [
    "from deploy_utils.iam_utils import try_attach_role_policy\n",
    "\n",
    "# The id \"role_arn\" will be used on lambda deployment\n",
    "role_arn = try_attach_role_policy(iam_client, iam_role_name, lambda_policy_arn, trust_policy)\n",
    "\n",
    "role_arn"
   ]
  },
  {
   "cell_type": "markdown",
   "id": "cbbd440a",
   "metadata": {},
   "source": [
    "## ECR image"
   ]
  },
  {
   "cell_type": "markdown",
   "id": "bf05f47b",
   "metadata": {},
   "source": [
    "Run 2 cells below with key stroke _Shift+Enter_ to upload the docker image to ECR."
   ]
  },
  {
   "cell_type": "code",
   "execution_count": 9,
   "id": "a8f4dba1",
   "metadata": {
    "scrolled": true
   },
   "outputs": [
    {
     "name": "stdout",
     "output_type": "stream",
     "text": [
      "Logining on ECR account...\n",
      "Deleting existent ECR image...\n",
      "Creating ECR image...\n",
      "Building docker image...\n",
      "Tagging docker image...\n",
      "Pushing docker image to ECR...\n",
      "Docker image upload finished successfully!\n"
     ]
    }
   ],
   "source": [
    "from deploy_utils.ecr_utils import pipe_push_image\n",
    "\n",
    "pipe_push_image(aws_account_id, aws_region, ecr_image_name)"
   ]
  },
  {
   "cell_type": "markdown",
   "id": "130dc589",
   "metadata": {},
   "source": [
    "# Lambda function creation"
   ]
  },
  {
   "cell_type": "markdown",
   "id": "a63b4028",
   "metadata": {},
   "source": [
    "Run 2 cells below with key stroke _Shift+Enter_ to generate a Lambda Function based on Docker Image"
   ]
  },
  {
   "cell_type": "markdown",
   "id": "305c18e4",
   "metadata": {},
   "source": [
    "### Create function"
   ]
  },
  {
   "cell_type": "code",
   "execution_count": 10,
   "id": "1cd6a1eb",
   "metadata": {},
   "outputs": [
    {
     "data": {
      "text/plain": [
       "{'ResponseMetadata': {'RequestId': '7288a327-71ff-4826-860a-11316ca0672f',\n",
       "  'HTTPStatusCode': 201,\n",
       "  'HTTPHeaders': {'date': 'Mon, 18 Sep 2023 14:13:50 GMT',\n",
       "   'content-type': 'application/json',\n",
       "   'content-length': '1110',\n",
       "   'connection': 'keep-alive',\n",
       "   'x-amzn-requestid': '7288a327-71ff-4826-860a-11316ca0672f'},\n",
       "  'RetryAttempts': 0},\n",
       " 'FunctionName': 'lambda-fn-serverless-example',\n",
       " 'FunctionArn': 'arn:aws:lambda:us-east-1:060004687794:function:lambda-fn-serverless-example',\n",
       " 'Role': 'arn:aws:iam::060004687794:role/lambda-exec-role',\n",
       " 'CodeSize': 0,\n",
       " 'Description': 'SKLearn predict Lambda function',\n",
       " 'Timeout': 10,\n",
       " 'MemorySize': 256,\n",
       " 'LastModified': '2023-09-18T14:13:49.391+0000',\n",
       " 'CodeSha256': '18db8a7ef972d222a111b2d92c137f416e51a06c1deadf4d07de6b144fbb62a7',\n",
       " 'Version': '4',\n",
       " 'TracingConfig': {'Mode': 'PassThrough'},\n",
       " 'RevisionId': '22b4ca2c-2295-43f0-9b6d-e3061e7c0a34',\n",
       " 'State': 'Pending',\n",
       " 'StateReason': 'The function is being created.',\n",
       " 'StateReasonCode': 'Creating',\n",
       " 'PackageType': 'Image',\n",
       " 'Architectures': ['x86_64'],\n",
       " 'EphemeralStorage': {'Size': 512},\n",
       " 'SnapStart': {'ApplyOn': 'None', 'OptimizationStatus': 'Off'}}"
      ]
     },
     "execution_count": 10,
     "metadata": {},
     "output_type": "execute_result"
    }
   ],
   "source": [
    "from deploy_utils.ecr_utils import build_ecr_url\n",
    "from deploy_utils.lambda_utils import delete_function, create_function\n",
    "\n",
    "# Function name (not public facing)\n",
    "lambda_function_name = f'lambda-fn-{ecr_image_name}'\n",
    "\n",
    "# Retrieve (if already exists) or create a new Lambda function\n",
    "routed_url = build_ecr_url(aws_account_id, aws_region, ecr_image_name)\n",
    "deletion_response = delete_function(lambda_client, lambda_function_name)\n",
    "create_response = create_function(lambda_client, lambda_function_name, func_description, routed_url, role_arn)\n",
    "\n",
    "create_response"
   ]
  },
  {
   "cell_type": "markdown",
   "id": "f1c32e87",
   "metadata": {},
   "source": [
    "### Get function"
   ]
  },
  {
   "cell_type": "code",
   "execution_count": 21,
   "id": "85eac6fb",
   "metadata": {},
   "outputs": [
    {
     "data": {
      "text/plain": [
       "{'ResponseMetadata': {'RequestId': 'c8207a7d-d755-41ab-8d1a-0cd35a3220aa',\n",
       "  'HTTPStatusCode': 200,\n",
       "  'HTTPHeaders': {'date': 'Mon, 18 Sep 2023 14:14:12 GMT',\n",
       "   'content-type': 'application/json',\n",
       "   'content-length': '1427',\n",
       "   'connection': 'keep-alive',\n",
       "   'x-amzn-requestid': 'c8207a7d-d755-41ab-8d1a-0cd35a3220aa'},\n",
       "  'RetryAttempts': 0},\n",
       " 'Configuration': {'FunctionName': 'lambda-fn-serverless-example',\n",
       "  'FunctionArn': 'arn:aws:lambda:us-east-1:060004687794:function:lambda-fn-serverless-example',\n",
       "  'Role': 'arn:aws:iam::060004687794:role/lambda-exec-role',\n",
       "  'CodeSize': 0,\n",
       "  'Description': 'SKLearn predict Lambda function',\n",
       "  'Timeout': 10,\n",
       "  'MemorySize': 256,\n",
       "  'LastModified': '2023-09-18T14:13:49.391+0000',\n",
       "  'CodeSha256': '18db8a7ef972d222a111b2d92c137f416e51a06c1deadf4d07de6b144fbb62a7',\n",
       "  'Version': '$LATEST',\n",
       "  'TracingConfig': {'Mode': 'PassThrough'},\n",
       "  'RevisionId': '75d8e0e6-da2c-411f-a8e3-bb25540a2f68',\n",
       "  'State': 'Active',\n",
       "  'LastUpdateStatus': 'Successful',\n",
       "  'PackageType': 'Image',\n",
       "  'Architectures': ['x86_64'],\n",
       "  'EphemeralStorage': {'Size': 512},\n",
       "  'SnapStart': {'ApplyOn': 'None', 'OptimizationStatus': 'Off'}},\n",
       " 'Code': {'RepositoryType': 'ECR',\n",
       "  'ImageUri': '060004687794.dkr.ecr.us-east-1.amazonaws.com/serverless-example:latest',\n",
       "  'ResolvedImageUri': '060004687794.dkr.ecr.us-east-1.amazonaws.com/serverless-example@sha256:18db8a7ef972d222a111b2d92c137f416e51a06c1deadf4d07de6b144fbb62a7'}}"
      ]
     },
     "execution_count": 21,
     "metadata": {},
     "output_type": "execute_result"
    }
   ],
   "source": [
    "from deploy_utils.lambda_utils import get_function\n",
    "\n",
    "get_response = get_function(lambda_client, lambda_function_name)\n",
    "\n",
    "get_response"
   ]
  },
  {
   "cell_type": "markdown",
   "id": "1db0e723",
   "metadata": {},
   "source": [
    "### Test lambda function"
   ]
  },
  {
   "cell_type": "code",
   "execution_count": 35,
   "id": "c65da515",
   "metadata": {},
   "outputs": [
    {
     "name": "stdout",
     "output_type": "stream",
     "text": [
      "{'statusCode': 200, 'headers': {'Content-Type': 'application/json'}, 'body': '[1, 4, 9, 16, 25]', 'isBase64Encoded': False}\n"
     ]
    }
   ],
   "source": [
    "from json import dumps, loads\n",
    "\n",
    "# Prepare the event to pass to the Lambda function\n",
    "example=[1, 2, 3, 4, 5]\n",
    "\n",
    "# Transform into json format\n",
    "payload=dumps({\"body\": example})\n",
    "\n",
    "# Invoke the Lambda function\n",
    "response = lambda_client.invoke(\n",
    "    FunctionName=lambda_function_name,\n",
    "    InvocationType='RequestResponse',\n",
    "    Payload=payload\n",
    ")\n",
    "\n",
    "# Get the response from the Lambda function\n",
    "result = loads(response['Payload'].read())\n",
    "\n",
    "print(result)"
   ]
  },
  {
   "cell_type": "markdown",
   "id": "33fda8c7",
   "metadata": {},
   "source": [
    "## API Gateway setup"
   ]
  },
  {
   "cell_type": "markdown",
   "id": "6ad18b80",
   "metadata": {},
   "source": [
    "Run the cells below to set the Lambda Function as an Endpoint on API Gateway."
   ]
  },
  {
   "cell_type": "code",
   "execution_count": null,
   "id": "58bb2128",
   "metadata": {},
   "outputs": [],
   "source": [
    "from deploy_utils.api_gateway_utils import delete_apis_by_name, has_api\n",
    "\n",
    "delete_apis_by_name(gateway_client, rest_api_name)"
   ]
  },
  {
   "cell_type": "code",
   "execution_count": 26,
   "id": "42bb068e",
   "metadata": {},
   "outputs": [
    {
     "data": {
      "text/plain": [
       "{'url': 'https://vxr3w2o3g0.execute-api.us-east-1.amazonaws.com/test/predict/',\n",
       " 'api_key': 'yQ7qztmZVE2VAd6Qa4BeV30uxxEXsrN56LJV2x0j',\n",
       " 'usage_plan_id': '3mitkv',\n",
       " 'rest_api_id': 'vxr3w2o3g0'}"
      ]
     },
     "execution_count": 26,
     "metadata": {},
     "output_type": "execute_result"
    }
   ],
   "source": [
    "from deploy_utils.api_gateway_utils import deploy_rest_api, build_api_url\n",
    "\n",
    "# Define the name of the API (not public facing)\n",
    "rest_api_name = lambda_function_name + '-api'\n",
    "\n",
    "deployment_reponse = deploy_rest_api(\\\n",
    "    gateway_client, lambda_client, \\\n",
    "    aws_account_id, aws_region, \\\n",
    "    lambda_function_name, rest_api_name, \\\n",
    "    endpoint, method_verb, \\\n",
    "    usage_constraints, stage \\\n",
    ")\n",
    "\n",
    "deployment_reponse"
   ]
  },
  {
   "cell_type": "code",
   "execution_count": 27,
   "id": "5f9cbe4e",
   "metadata": {},
   "outputs": [
    {
     "name": "stdout",
     "output_type": "stream",
     "text": [
      "https://vxr3w2o3g0.execute-api.us-east-1.amazonaws.com/test/predict/\n"
     ]
    }
   ],
   "source": [
    "rest_api_id=deployment_reponse['rest_api_id']\n",
    "\n",
    "# The URL by default will follow this pattern:\n",
    "api_url = build_api_url(rest_api_id, aws_region, endpoint, stage)\n",
    "\n",
    "print(api_url)\n"
   ]
  },
  {
   "cell_type": "code",
   "execution_count": 28,
   "id": "798ed4dc",
   "metadata": {},
   "outputs": [
    {
     "name": "stdout",
     "output_type": "stream",
     "text": [
      "yQ7qztmZVE2VAd6Qa4BeV30uxxEXsrN56LJV2x0j\n",
      "https://vxr3w2o3g0.execute-api.us-east-1.amazonaws.com/test/predict/\n"
     ]
    }
   ],
   "source": [
    "api_key=deployment_reponse['api_key']\n",
    "rest_api_id=deployment_reponse['rest_api_id']\n",
    "\n",
    "# The URL by default will follow this pattern:\n",
    "api_url = build_api_url(rest_api_id, aws_region, endpoint, stage)\n",
    "\n",
    "print(api_key)\n",
    "print(api_url)\n"
   ]
  },
  {
   "cell_type": "markdown",
   "id": "7feb4dea",
   "metadata": {},
   "source": [
    "### Test API Gateway endpoint"
   ]
  },
  {
   "cell_type": "code",
   "execution_count": 34,
   "id": "c29513cd",
   "metadata": {},
   "outputs": [
    {
     "data": {
      "text/plain": [
       "[1, 4, 9, 16, 25]"
      ]
     },
     "execution_count": 34,
     "metadata": {},
     "output_type": "execute_result"
    }
   ],
   "source": [
    "# Prepare the event to pass to the Lambda function\n",
    "example=[1, 2, 3, 4, 5]\n",
    "\n",
    "# Transform into json format\n",
    "payload=json.dumps({\"body\": example})\n",
    "\n",
    "headers = {\n",
    "    'Content-type': 'application/json', \n",
    "    'x-api-key': api_key,\n",
    "}\n",
    "\n",
    "resp = requests.post(api_url, headers=headers, json=example)\n",
    "resp.json()\n"
   ]
  },
  {
   "cell_type": "code",
   "execution_count": null,
   "id": "32258230",
   "metadata": {},
   "outputs": [],
   "source": []
  }
 ],
 "metadata": {
  "kernelspec": {
   "display_name": "Python 3 (ipykernel)",
   "language": "python",
   "name": "python3"
  },
  "language_info": {
   "codemirror_mode": {
    "name": "ipython",
    "version": 3
   },
   "file_extension": ".py",
   "mimetype": "text/x-python",
   "name": "python",
   "nbconvert_exporter": "python",
   "pygments_lexer": "ipython3",
   "version": "3.8.10"
  }
 },
 "nbformat": 4,
 "nbformat_minor": 5
}
