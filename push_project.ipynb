{
 "cells": [
  {
   "cell_type": "code",
   "execution_count": 1,
   "id": "03427fa7",
   "metadata": {},
   "outputs": [
    {
     "name": "stdout",
     "output_type": "stream",
     "text": [
      "Requirement already satisfied: boto3 in /home/brunolnetto/.cache/pypoetry/virtualenvs/lambda-api-kf5ak74e-py3.8/lib/python3.8/site-packages (1.28.49)\n",
      "Requirement already satisfied: botocore<1.32.0,>=1.31.49 in /home/brunolnetto/.cache/pypoetry/virtualenvs/lambda-api-kf5ak74e-py3.8/lib/python3.8/site-packages (from boto3) (1.31.49)\n",
      "Requirement already satisfied: jmespath<2.0.0,>=0.7.1 in /home/brunolnetto/.cache/pypoetry/virtualenvs/lambda-api-kf5ak74e-py3.8/lib/python3.8/site-packages (from boto3) (1.0.1)\n",
      "Requirement already satisfied: s3transfer<0.7.0,>=0.6.0 in /home/brunolnetto/.cache/pypoetry/virtualenvs/lambda-api-kf5ak74e-py3.8/lib/python3.8/site-packages (from boto3) (0.6.2)\n",
      "Requirement already satisfied: python-dateutil<3.0.0,>=2.1 in /home/brunolnetto/.cache/pypoetry/virtualenvs/lambda-api-kf5ak74e-py3.8/lib/python3.8/site-packages (from botocore<1.32.0,>=1.31.49->boto3) (2.8.2)\n",
      "Requirement already satisfied: urllib3<1.27,>=1.25.4 in /home/brunolnetto/.cache/pypoetry/virtualenvs/lambda-api-kf5ak74e-py3.8/lib/python3.8/site-packages (from botocore<1.32.0,>=1.31.49->boto3) (1.26.16)\n",
      "Requirement already satisfied: six>=1.5 in /home/brunolnetto/.cache/pypoetry/virtualenvs/lambda-api-kf5ak74e-py3.8/lib/python3.8/site-packages (from python-dateutil<3.0.0,>=2.1->botocore<1.32.0,>=1.31.49->boto3) (1.16.0)\n"
     ]
    }
   ],
   "source": [
    "!pip install boto3"
   ]
  },
  {
   "cell_type": "code",
   "execution_count": 2,
   "id": "bcd8b614",
   "metadata": {},
   "outputs": [],
   "source": [
    "import os\n",
    "import boto3\n",
    "import json\n",
    "import requests"
   ]
  },
  {
   "cell_type": "markdown",
   "id": "b81aa2b7",
   "metadata": {},
   "source": [
    "# Utilitary build functions"
   ]
  },
  {
   "cell_type": "code",
   "execution_count": 3,
   "id": "ca6f9fe1",
   "metadata": {},
   "outputs": [],
   "source": [
    "def build_ecr_password_stdin(account_id_, region_):\n",
    "    return f\"{account_id_}.dkr.ecr.{region_}.amazonaws.com\"\n",
    "\n",
    "def build_tagged_image(image_name, tag):\n",
    "    return f\"{image_name}:{tag}\"\n",
    "\n",
    "def build_ecr_url(account_id_, region_, image_name, tag):    \n",
    "    tagged_image_name=build_tagged_image(image_name, tag)\n",
    "    password_stdin=build_ecr_password_stdin(account_id_, region_)\n",
    "    \n",
    "    return f\"{password_stdin}/{tagged_image_name}\"\n",
    "\n",
    "def build_lambda_uri(region_, lambda_arn_):\n",
    "    uri_host=f\"arn:aws:apigateway:{region_}:lambda:path\"\n",
    "    uri_route=f\"2015-03-31/functions/{lambda_arn_}/invocations\"\n",
    "    return f\"{uri_host}/{uri_route}\"\n",
    "\n",
    "def build_source_arn(region_, account_id_, rest_api_id_):\n",
    "    return f'arn:aws:execute-api:{region_}:{account_id_}:{rest_api_id_}/*'\n",
    "\n",
    "def build_api_url(rest_api_id, region_, endpoint_, stage_):\n",
    "    host=f\"https://{rest_api_id}.execute-api.{region_}.amazonaws.com\"\n",
    "    route=f\"{stage_}/{endpoint_}/\"\n",
    "    return f\"{host}/{route}\"\n"
   ]
  },
  {
   "cell_type": "markdown",
   "id": "62a365fe",
   "metadata": {},
   "source": [
    "# Information for communication protocols"
   ]
  },
  {
   "cell_type": "code",
   "execution_count": 4,
   "id": "8e356e0c",
   "metadata": {},
   "outputs": [],
   "source": [
    "# Account\n",
    "account_id = '060004687794'\n",
    "\n",
    "# Server\n",
    "region = \"sa-east-1\"\n",
    "\n",
    "# Platform\n",
    "ecr_image_name = \"serverless-example\"\n",
    "tag='latest'\n",
    "target_platform=\"linux/amd64\"\n",
    "\n",
    "# API\n",
    "endpoint = \"predict\"\n",
    "method_verb='POST'\n",
    "stage = \"test\"\n",
    "\n",
    "# Ellaborate information\n",
    "tagged_image_uri=f\"{ecr_image_name}:latest\"\n",
    "password_stdin=f\"{account_id}.dkr.ecr.{region}.amazonaws.com\"\n",
    "\n",
    "# Specify the role name and trust policy for the Lambda service\n",
    "role_name = 'lambda-exec-role'\n",
    "\n",
    "trust_policy = {\n",
    "    'Version': '2012-10-17',\n",
    "    'Statement': [\n",
    "        {\n",
    "            'Effect': 'Allow',\n",
    "            'Principal': {'Service': 'lambda.amazonaws.com'},\n",
    "            'Action': 'sts:AssumeRole'\n",
    "        }\n",
    "    ]\n",
    "}\n",
    "\n",
    "policy_arn = 'arn:aws:iam::aws:policy/service-role/AWSLambdaBasicExecutionRole'\n",
    "\n",
    "# Rate limits: Harsh since this will be public facing\n",
    "# Quota: Low daily limits for the same reason\n",
    "usage_constraints = {\n",
    "    'rate_limits': {\n",
    "        'burstLimit': 10,\n",
    "        'rateLimit': 10.0\n",
    "    },\n",
    "    'quota': {\n",
    "        'limit': 100,\n",
    "        'period': 'DAY'\n",
    "    }\n",
    "}\n",
    "\n",
    "# Function name (not public facing)\n",
    "function_name = f'lambda-fn-{ecr_image_name}'"
   ]
  },
  {
   "cell_type": "markdown",
   "id": "234bc9e0",
   "metadata": {},
   "source": [
    "# Clients"
   ]
  },
  {
   "cell_type": "code",
   "execution_count": 5,
   "id": "f223d63e",
   "metadata": {},
   "outputs": [],
   "source": [
    "# Set up the IAM client\n",
    "iam_client = boto3.client('iam', region_name=region)\n",
    "\n",
    "# Set up the Lambda client\n",
    "lambda_client = boto3.client('lambda', region_name=region)\n",
    "\n",
    "# Set up the API Gateway client\n",
    "gateway_client = boto3.client('apigateway', region_name=region)"
   ]
  },
  {
   "cell_type": "markdown",
   "id": "555cfc08",
   "metadata": {},
   "source": [
    "# Development steps\n",
    "\n",
    "- IAM role image handling;\n",
    "- Docker image\n",
    "- Lambda function creation;\n",
    "- API Gateway"
   ]
  },
  {
   "cell_type": "markdown",
   "id": "81bcb91b",
   "metadata": {},
   "source": [
    "## IAM Role"
   ]
  },
  {
   "cell_type": "markdown",
   "id": "4b46ce62",
   "metadata": {},
   "source": [
    "The first step: create a user on IAM with below permissions:\n",
    "\n",
    "- **IAMUserChangePassword**: a default permission to change password \n",
    "- **IAMFullAccess**: Allows IAM management\n",
    "- **AmazonEC2ContainerRegistryFullAccess**: Allows uploading image to ECR\n",
    "- **AWSLambda_FullAccess**: Allows access to specific Lambda function given a role \n",
    "- **AmazonAPIGatewayAdministrator**: Allows access to specific API Gateway handling \n",
    "\n"
   ]
  },
  {
   "cell_type": "markdown",
   "id": "800e5308",
   "metadata": {},
   "source": [
    "## Utilitary functions"
   ]
  },
  {
   "cell_type": "code",
   "execution_count": 6,
   "id": "2960c323",
   "metadata": {},
   "outputs": [],
   "source": [
    "def try_get_role(i_client, role_name_, trust_policy):\n",
    "    try:\n",
    "        return i_client.get_role(\n",
    "            RoleName=role_name_\n",
    "        )\n",
    "    except i_client.exceptions.NoSuchEntityException:\n",
    "        i_client.create_role(\n",
    "            RoleName=role_name_,\n",
    "            AssumeRolePolicyDocument=json.dumps(trust_policy),\n",
    "            Description='Execution role for Lambda function',\n",
    "        )\n",
    "        \n",
    "def try_attach_role_policy(i_client, role_name_, policy_arn, trust_policy):\n",
    "    # Just need to run it once, otherwise retrieve already existing role\n",
    "    response=try_get_role(i_client, role_name_, trust_policy)\n",
    "\n",
    "    # Get the role ARN\n",
    "    role_arn = response['Role']['Arn']\n",
    "\n",
    "    # Attach the AWSLambdaBasicExecutionRole policy to the role\n",
    "    i_client.attach_role_policy(RoleName=role_name, PolicyArn=policy_arn)\n",
    "    \n",
    "    return role_arn\n",
    "\n",
    "# The id \"role_arn\" will be used on lambda deployment\n",
    "role_arn = try_attach_role_policy(iam_client, role_name, policy_arn, trust_policy)"
   ]
  },
  {
   "cell_type": "code",
   "execution_count": 7,
   "id": "866de792",
   "metadata": {},
   "outputs": [
    {
     "data": {
      "text/plain": [
       "'arn:aws:iam::060004687794:role/lambda-exec-role'"
      ]
     },
     "execution_count": 7,
     "metadata": {},
     "output_type": "execute_result"
    }
   ],
   "source": [
    "role_arn"
   ]
  },
  {
   "cell_type": "markdown",
   "id": "cbbd440a",
   "metadata": {},
   "source": [
    "## Docker image"
   ]
  },
  {
   "cell_type": "markdown",
   "id": "bf05f47b",
   "metadata": {},
   "source": [
    "Run 2 cells below with key stroke _Shift+Enter_ to upload the docker image to ECR."
   ]
  },
  {
   "cell_type": "code",
   "execution_count": 8,
   "id": "44459362",
   "metadata": {},
   "outputs": [],
   "source": [
    "def run(command):\n",
    "    os.system(command)\n",
    "\n",
    "def login_ecr_docker(account_id, region):\n",
    "    password_stdin=build_ecr_password_stdin(account_id, region)\n",
    "    \n",
    "    opts=f\"get-login-password --region {region}\"\n",
    "    get_pwd_command=f\"aws ecr {opts}\"\n",
    "    \n",
    "    opts=f\"--username AWS --password-stdin {password_stdin}\"\n",
    "    login_command=f\"docker login {opts}\"\n",
    "    \n",
    "    entry_command=f\"{get_pwd_command} | {login_command}\"\n",
    "    \n",
    "    run(entry_command)\n",
    "    \n",
    "def create_ecr_image(ecr_image_name_):\n",
    "    args_1=f\"--repository-name {ecr_image_name_}\"\n",
    "    args_2=f\"--image-scanning-configuration scanOnPush=true\"\n",
    "    args_3=f\"--image-tag-mutability MUTABLE\"\n",
    "    create_args=f\"{args_1} {args_2} {args_3}\"\n",
    "    \n",
    "    opts=f\"create-repository {create_args}\"\n",
    "    create_comand=f\"aws ecr {opts}\"\n",
    "\n",
    "    run(create_comand)\n",
    "\n",
    "def delete_ecr_image(ecr_image_name_):\n",
    "    tags=f\"--force --repository-name {ecr_image_name_}\"\n",
    "    delete_command=f\"aws ecr delete-repository {tags}\" \n",
    "    \n",
    "    run(delete_command)\n",
    "    \n",
    "def build_docker_image(ecr_image_name):\n",
    "    build_args=f\"-t {ecr_image_name} .\"\n",
    "    build_command=f\"docker build {build_args}\"\n",
    "    \n",
    "    run(build_command)\n",
    "    \n",
    "def tag_docker_image(tagged_image_uri_, routed_url):\n",
    "    tag_args=f\"{tagged_image_uri_} {routed_url}\"\n",
    "    tag_command=f\"docker tag {tag_args}\"\n",
    "    \n",
    "    run(tag_command)\n",
    "    \n",
    "def push_docker_image(tagged_image_uri):\n",
    "    push_command=f\"docker push {tagged_image_uri}\"\n",
    "\n",
    "    run(push_command)\n",
    "    \n",
    "def pipe_push_image(account_id_, region_, ecr_image_name_, tag_):\n",
    "    # 1. Log in to AWS ECR\n",
    "    login_ecr_docker(account_id_, region_)\n",
    "    \n",
    "    # 2. Delete ECR repo: only needs to be done once\n",
    "    delete_ecr_image(ecr_image_name_)\n",
    "    \n",
    "    # 3. Create ECR repo: only needs to be done once\n",
    "    create_ecr_image(ecr_image_name_)\n",
    "\n",
    "    # 4. Build Docker image using your local Dockerfile\n",
    "    build_docker_image(ecr_image_name_)\n",
    "\n",
    "    # 5. Tag you image\n",
    "    tagged_image_uri=build_tagged_image(ecr_image_name_, tag_)\n",
    "    routed_url=build_ecr_url(account_id_, region_, ecr_image_name_, tag_)\n",
    "    tag_docker_image(tagged_image_uri, routed_url)\n",
    "\n",
    "    # 6. Push your image to ECR\n",
    "    push_docker_image(routed_url)"
   ]
  },
  {
   "cell_type": "code",
   "execution_count": 10,
   "id": "a8f4dba1",
   "metadata": {
    "scrolled": true
   },
   "outputs": [
    {
     "name": "stderr",
     "output_type": "stream",
     "text": [
      "WARNING! Your password will be stored unencrypted in /home/brunolnetto/.docker/config.json.\n",
      "Configure a credential helper to remove this warning. See\n",
      "https://docs.docker.com/engine/reference/commandline/login/#credentials-store\n",
      "\n"
     ]
    },
    {
     "name": "stdout",
     "output_type": "stream",
     "text": [
      "Login Succeeded\n"
     ]
    },
    {
     "name": "stderr",
     "output_type": "stream",
     "text": [
      "\n",
      "An error occurred (RepositoryNotFoundException) when calling the DeleteRepository operation: The repository with name 'serverless-example' does not exist in the registry with id '060004687794'\n"
     ]
    },
    {
     "name": "stdout",
     "output_type": "stream",
     "text": [
      "{\n",
      "    \"repository\": {\n",
      "        \"repositoryArn\": \"arn:aws:ecr:sa-east-1:060004687794:repository/serverless-example\",\n",
      "        \"registryId\": \"060004687794\",\n",
      "        \"repositoryName\": \"serverless-example\",\n",
      "        \"repositoryUri\": \"060004687794.dkr.ecr.sa-east-1.amazonaws.com/serverless-example\",\n",
      "        \"createdAt\": \"2023-09-15T20:33:08-03:00\",\n",
      "        \"imageTagMutability\": \"MUTABLE\",\n",
      "        \"imageScanningConfiguration\": {\n",
      "            \"scanOnPush\": true\n",
      "        },\n",
      "        \"encryptionConfiguration\": {\n",
      "            \"encryptionType\": \"AES256\"\n",
      "        }\n",
      "    }\n",
      "}\n"
     ]
    },
    {
     "name": "stderr",
     "output_type": "stream",
     "text": [
      "#1 [internal] load build definition from Dockerfile\n",
      "#1 transferring dockerfile: 580B done\n",
      "#1 DONE 0.0s\n",
      "\n",
      "#2 [internal] load .dockerignore\n",
      "#2 transferring context: 2B done\n",
      "#2 DONE 0.0s\n",
      "\n",
      "#3 [internal] load metadata for public.ecr.aws/lambda/python:3.9.2023.03.15.15-x86_64\n",
      "#3 DONE 1.7s\n",
      "\n",
      "#4 [1/4] FROM public.ecr.aws/lambda/python:3.9.2023.03.15.15-x86_64@sha256:d7dd8369b33bb0825b32269af61cab13e4c5db6200ad6350b6aee0c4682b5562\n",
      "#4 DONE 0.0s\n",
      "\n",
      "#5 [internal] load build context\n",
      "#5 transferring context: 225.47kB 0.0s done\n",
      "#5 DONE 0.0s\n",
      "\n",
      "#4 [1/4] FROM public.ecr.aws/lambda/python:3.9.2023.03.15.15-x86_64@sha256:d7dd8369b33bb0825b32269af61cab13e4c5db6200ad6350b6aee0c4682b5562\n",
      "#4 CACHED\n",
      "\n",
      "#6 [2/4] COPY requirements.txt .\n",
      "#6 DONE 0.1s\n",
      "\n",
      "#7 [3/4] RUN pip3 install -r requirements.txt --target \"/var/task\"\n",
      "#7 0.595 Ignoring colorama: markers 'python_version >= \"3.8\" and python_version < \"4.0\" and sys_platform == \"win32\"' don't match your environment\n",
      "#7 0.900 Collecting autopep8==2.0.4\n",
      "#7 1.001   Downloading autopep8-2.0.4-py2.py3-none-any.whl (45 kB)\n",
      "#7 1.026      ━━━━━━━━━━━━━━━━━━━━━━━━━━━━━━━━━━━━━━━━ 45.3/45.3 KB 1.7 MB/s eta 0:00:00\n",
      "#7 1.075 Collecting cloudpickle==2.2.1\n",
      "#7 1.100   Downloading cloudpickle-2.2.1-py3-none-any.whl (25 kB)\n",
      "#7 1.638 Collecting coverage==7.3.1\n",
      "#7 1.661   Downloading coverage-7.3.1-cp39-cp39-manylinux_2_5_x86_64.manylinux1_x86_64.manylinux_2_17_x86_64.manylinux2014_x86_64.whl (228 kB)\n",
      "#7 1.707      ━━━━━━━━━━━━━━━━━━━━━━━━━━━━━━━━━━━━━━━ 228.6/228.6 KB 5.4 MB/s eta 0:00:00\n",
      "#7 1.756 Collecting exceptiongroup==1.1.3\n",
      "#7 1.788   Downloading exceptiongroup-1.1.3-py3-none-any.whl (14 kB)\n",
      "#7 1.828 Collecting iniconfig==2.0.0\n",
      "#7 1.846   Downloading iniconfig-2.0.0-py3-none-any.whl (5.9 kB)\n",
      "#7 1.904 Collecting packaging==23.1\n",
      "#7 1.924   Downloading packaging-23.1-py3-none-any.whl (48 kB)\n",
      "#7 1.942      ━━━━━━━━━━━━━━━━━━━━━━━━━━━━━━━━━━━━━━━━ 48.9/48.9 KB 4.4 MB/s eta 0:00:00\n",
      "#7 2.010 Collecting pluggy==1.3.0\n",
      "#7 2.036   Downloading pluggy-1.3.0-py3-none-any.whl (18 kB)\n",
      "#7 2.095 Collecting pycodestyle==2.11.0\n",
      "#7 2.122   Downloading pycodestyle-2.11.0-py2.py3-none-any.whl (31 kB)\n",
      "#7 2.194 Collecting pytest-cov==4.1.0\n",
      "#7 2.213   Downloading pytest_cov-4.1.0-py3-none-any.whl (21 kB)\n",
      "#7 2.315 Collecting pytest==7.4.2\n",
      "#7 2.336   Downloading pytest-7.4.2-py3-none-any.whl (324 kB)\n",
      "#7 2.394      ━━━━━━━━━━━━━━━━━━━━━━━━━━━━━━━━━━━━━━━ 324.5/324.5 KB 6.5 MB/s eta 0:00:00\n",
      "#7 3.089 Collecting ruff==0.0.290\n",
      "#7 3.135   Downloading ruff-0.0.290-py3-none-manylinux_2_17_x86_64.manylinux2014_x86_64.whl (6.2 MB)\n",
      "#7 3.845      ━━━━━━━━━━━━━━━━━━━━━━━━━━━━━━━━━━━━━━━━ 6.2/6.2 MB 8.8 MB/s eta 0:00:00\n",
      "#7 3.897 Collecting tomli==2.0.1\n",
      "#7 3.956   Downloading tomli-2.0.1-py3-none-any.whl (12 kB)\n",
      "#7 4.097 Installing collected packages: tomli, ruff, pycodestyle, pluggy, packaging, iniconfig, exceptiongroup, coverage, cloudpickle, pytest, autopep8, pytest-cov\n",
      "#7 4.619 Successfully installed autopep8-2.0.4 cloudpickle-2.2.1 coverage-7.3.1 exceptiongroup-1.1.3 iniconfig-2.0.0 packaging-23.1 pluggy-1.3.0 pycodestyle-2.11.0 pytest-7.4.2 pytest-cov-4.1.0 ruff-0.0.290 tomli-2.0.1\n",
      "#7 4.620 WARNING: Running pip as the 'root' user can result in broken permissions and conflicting behaviour with the system package manager. It is recommended to use a virtual environment instead: https://pip.pypa.io/warnings/venv\n",
      "#7 4.771 WARNING: You are using pip version 22.0.4; however, version 23.2.1 is available.\n",
      "#7 4.771 You should consider upgrading via the '/var/lang/bin/python3.9 -m pip install --upgrade pip' command.\n",
      "#7 DONE 4.9s\n",
      "\n",
      "#8 [4/4] COPY . /var/task/\n",
      "#8 DONE 0.4s\n",
      "\n",
      "#9 exporting to image\n",
      "#9 exporting layers\n",
      "#9 exporting layers 0.2s done\n",
      "#9 writing image sha256:ef5426201b507220ab928a463570ed3384cb5c748887263f7b30726af97a822d done\n",
      "#9 naming to docker.io/library/serverless-example done\n",
      "#9 DONE 0.2s\n"
     ]
    },
    {
     "name": "stdout",
     "output_type": "stream",
     "text": [
      "The push refers to repository [060004687794.dkr.ecr.sa-east-1.amazonaws.com/serverless-example]\n",
      "2d51df1dbc09: Preparing\n",
      "80b68e8b9149: Preparing\n",
      "60fb27e38b97: Preparing\n",
      "2d32c89b4065: Preparing\n",
      "e5a063df86fb: Preparing\n",
      "2d244e0816c6: Preparing\n",
      "ef5cc9241c56: Preparing\n",
      "65c2fe7d7702: Preparing\n",
      "0d91c86bcea1: Preparing\n",
      "ef5cc9241c56: Waiting\n",
      "65c2fe7d7702: Waiting\n",
      "2d244e0816c6: Waiting\n",
      "0d91c86bcea1: Waiting\n",
      "60fb27e38b97: Pushed\n",
      "2d244e0816c6: Pushed\n",
      "ef5cc9241c56: Pushed\n",
      "2d51df1dbc09: Pushed\n",
      "2d32c89b4065: Pushed\n",
      "80b68e8b9149: Pushed\n",
      "65c2fe7d7702: Pushed\n",
      "e5a063df86fb: Pushed\n",
      "0d91c86bcea1: Pushed\n",
      "latest: digest: sha256:916a79637ade9e862bd96de7c594a9c62cbeb5ebddd06abff24fc49214ece130 size: 2212\n"
     ]
    }
   ],
   "source": [
    "pipe_push_image(account_id, region, ecr_image_name, tag)"
   ]
  },
  {
   "cell_type": "markdown",
   "id": "130dc589",
   "metadata": {},
   "source": [
    "# Lambda function "
   ]
  },
  {
   "cell_type": "markdown",
   "id": "a63b4028",
   "metadata": {},
   "source": [
    "Run 2 cells below with key stroke _Shift+Enter_ to generate a Lambda Function based on Docker Image"
   ]
  },
  {
   "cell_type": "code",
   "execution_count": 11,
   "id": "03c7dc4a",
   "metadata": {},
   "outputs": [],
   "source": [
    "def get_function(l_client, function_name):\n",
    "    failure_message=f\"Lambda function {function_name} does not exist\"\n",
    "    \n",
    "    try:\n",
    "        return l_client.get_function(FunctionName=function_name)\n",
    "    \n",
    "    except l_client.exceptions.ResourceNotFoundException:\n",
    "        print(failure_message)\n",
    "\n",
    "def create_function(l_client, function_name, routed_url, role_arn):\n",
    "    failure_message=f\"Lambda function {function_name} already exists\"\n",
    "    \n",
    "    code_payload={'ImageUri': routed_url}\n",
    "    func_description='SKLearn predict Lambda function'\n",
    "    \n",
    "    try:\n",
    "        return l_client.create_function(\n",
    "            FunctionName=function_name,\n",
    "            Role=role_arn,\n",
    "            PackageType='Image',\n",
    "            Code=code_payload,\n",
    "            Description=func_description,\n",
    "            Timeout=10,\n",
    "            MemorySize=256,\n",
    "            Publish=True,\n",
    "        )\n",
    "    \n",
    "    except l_client.exceptions.ResourceNotFoundException:\n",
    "        print(failure_message)\n",
    "\n",
    "# snippet-start:[python.example_code.lambda.DeleteFunction]\n",
    "def delete_function(l_client, function_name):\n",
    "    \"\"\"\n",
    "    Deletes a Lambda function.\n",
    "\n",
    "    :param function_name: The name of the function to delete.\n",
    "    \"\"\"\n",
    "    try:\n",
    "        return l_client.delete_function(FunctionName=function_name)\n",
    "    except l_client.exceptions.ClientError:\n",
    "        print(f\"Couldn't delete function {function_name}.\", )"
   ]
  },
  {
   "cell_type": "markdown",
   "id": "305c18e4",
   "metadata": {},
   "source": [
    "### Create function"
   ]
  },
  {
   "cell_type": "code",
   "execution_count": 12,
   "id": "1cd6a1eb",
   "metadata": {},
   "outputs": [
    {
     "name": "stdout",
     "output_type": "stream",
     "text": [
      "Couldn't delete function lambda-fn-serverless-example.\n"
     ]
    },
    {
     "data": {
      "text/plain": [
       "{'ResponseMetadata': {'RequestId': 'fbe94f7f-aebd-429d-837e-72784684061d',\n",
       "  'HTTPStatusCode': 201,\n",
       "  'HTTPHeaders': {'date': 'Fri, 15 Sep 2023 23:33:54 GMT',\n",
       "   'content-type': 'application/json',\n",
       "   'content-length': '1111',\n",
       "   'connection': 'keep-alive',\n",
       "   'x-amzn-requestid': 'fbe94f7f-aebd-429d-837e-72784684061d'},\n",
       "  'RetryAttempts': 0},\n",
       " 'FunctionName': 'lambda-fn-serverless-example',\n",
       " 'FunctionArn': 'arn:aws:lambda:sa-east-1:060004687794:function:lambda-fn-serverless-example',\n",
       " 'Role': 'arn:aws:iam::060004687794:role/lambda-exec-role',\n",
       " 'CodeSize': 0,\n",
       " 'Description': 'SKLearn predict Lambda function',\n",
       " 'Timeout': 10,\n",
       " 'MemorySize': 256,\n",
       " 'LastModified': '2023-09-15T23:33:53.534+0000',\n",
       " 'CodeSha256': '916a79637ade9e862bd96de7c594a9c62cbeb5ebddd06abff24fc49214ece130',\n",
       " 'Version': '20',\n",
       " 'TracingConfig': {'Mode': 'PassThrough'},\n",
       " 'RevisionId': '4c3df056-4676-4d60-bab7-c87056d572be',\n",
       " 'State': 'Pending',\n",
       " 'StateReason': 'The function is being created.',\n",
       " 'StateReasonCode': 'Creating',\n",
       " 'PackageType': 'Image',\n",
       " 'Architectures': ['x86_64'],\n",
       " 'EphemeralStorage': {'Size': 512},\n",
       " 'SnapStart': {'ApplyOn': 'None', 'OptimizationStatus': 'Off'}}"
      ]
     },
     "execution_count": 12,
     "metadata": {},
     "output_type": "execute_result"
    }
   ],
   "source": [
    "# Retrieve (if already exists) or create a new Lambda function\n",
    "routed_url=build_ecr_url(account_id, region, ecr_image_name, tag)\n",
    "deletion_response = delete_function(lambda_client, function_name)\n",
    "create_response = create_function(lambda_client, function_name, routed_url, role_arn)\n",
    "\n",
    "create_response"
   ]
  },
  {
   "cell_type": "code",
   "execution_count": 16,
   "id": "85eac6fb",
   "metadata": {},
   "outputs": [
    {
     "data": {
      "text/plain": [
       "{'ResponseMetadata': {'RequestId': '0dbe22dd-b08d-46f6-af4f-5e6d2486a6d8',\n",
       "  'HTTPStatusCode': 200,\n",
       "  'HTTPHeaders': {'date': 'Fri, 15 Sep 2023 23:34:10 GMT',\n",
       "   'content-type': 'application/json',\n",
       "   'content-length': '1427',\n",
       "   'connection': 'keep-alive',\n",
       "   'x-amzn-requestid': '0dbe22dd-b08d-46f6-af4f-5e6d2486a6d8'},\n",
       "  'RetryAttempts': 0},\n",
       " 'Configuration': {'FunctionName': 'lambda-fn-serverless-example',\n",
       "  'FunctionArn': 'arn:aws:lambda:sa-east-1:060004687794:function:lambda-fn-serverless-example',\n",
       "  'Role': 'arn:aws:iam::060004687794:role/lambda-exec-role',\n",
       "  'CodeSize': 0,\n",
       "  'Description': 'SKLearn predict Lambda function',\n",
       "  'Timeout': 10,\n",
       "  'MemorySize': 256,\n",
       "  'LastModified': '2023-09-15T23:33:53.534+0000',\n",
       "  'CodeSha256': '916a79637ade9e862bd96de7c594a9c62cbeb5ebddd06abff24fc49214ece130',\n",
       "  'Version': '$LATEST',\n",
       "  'TracingConfig': {'Mode': 'PassThrough'},\n",
       "  'RevisionId': 'd729d8ae-cb5c-4076-a04a-0ad32e62f09c',\n",
       "  'State': 'Active',\n",
       "  'LastUpdateStatus': 'Successful',\n",
       "  'PackageType': 'Image',\n",
       "  'Architectures': ['x86_64'],\n",
       "  'EphemeralStorage': {'Size': 512},\n",
       "  'SnapStart': {'ApplyOn': 'None', 'OptimizationStatus': 'Off'}},\n",
       " 'Code': {'RepositoryType': 'ECR',\n",
       "  'ImageUri': '060004687794.dkr.ecr.sa-east-1.amazonaws.com/serverless-example:latest',\n",
       "  'ResolvedImageUri': '060004687794.dkr.ecr.sa-east-1.amazonaws.com/serverless-example@sha256:916a79637ade9e862bd96de7c594a9c62cbeb5ebddd06abff24fc49214ece130'}}"
      ]
     },
     "execution_count": 16,
     "metadata": {},
     "output_type": "execute_result"
    }
   ],
   "source": [
    "get_response = get_function(lambda_client, function_name)\n",
    "\n",
    "get_response"
   ]
  },
  {
   "cell_type": "markdown",
   "id": "1db0e723",
   "metadata": {},
   "source": [
    "### Test function"
   ]
  },
  {
   "cell_type": "code",
   "execution_count": 30,
   "id": "1b0be380",
   "metadata": {},
   "outputs": [
    {
     "data": {
      "text/plain": [
       "[1, 2, 3, 4, 5]"
      ]
     },
     "execution_count": 30,
     "metadata": {},
     "output_type": "execute_result"
    }
   ],
   "source": [
    "from lambda_api.predict_service import validate_event\n",
    "from json import loads\n",
    "\n",
    "# Prepare the event to pass to the Lambda function\n",
    "example=[1, 2, 3, 4, 5]\n",
    "\n",
    "# Transform into json format\n",
    "event={\"body\": example}\n",
    "context={}\n",
    "\n",
    "payload = validate_event(event, context)\n",
    "\n",
    "loads(payload['body'])"
   ]
  },
  {
   "cell_type": "code",
   "execution_count": 19,
   "id": "53709914",
   "metadata": {},
   "outputs": [
    {
     "data": {
      "text/plain": [
       "'{\"body\": [1, 2, 3, 4, 5]}'"
      ]
     },
     "execution_count": 19,
     "metadata": {},
     "output_type": "execute_result"
    }
   ],
   "source": []
  },
  {
   "cell_type": "code",
   "execution_count": 17,
   "id": "c65da515",
   "metadata": {},
   "outputs": [
    {
     "name": "stdout",
     "output_type": "stream",
     "text": [
      "{'statusCode': 500, 'headers': {'Content-Type': 'application/json'}, 'body': '[]', 'isBase64Encoded': False, 'error_message': \"unsupported operand type(s) for ** or pow(): 'str' and 'int'\"}\n"
     ]
    }
   ],
   "source": [
    "# Prepare the event to pass to the Lambda function\n",
    "example=[1, 2, 3, 4, 5]\n",
    "\n",
    "# Transform into json format\n",
    "payload=json.dumps({\"body\": example})\n",
    "\n",
    "# Invoke the Lambda function\n",
    "response = lambda_client.invoke(\n",
    "    FunctionName=function_name,\n",
    "    InvocationType='RequestResponse',\n",
    "    Payload=payload\n",
    ")\n",
    "\n",
    "# Get the response from the Lambda function\n",
    "result = json.loads(response['Payload'].read())\n",
    "\n",
    "print(result)"
   ]
  },
  {
   "cell_type": "markdown",
   "id": "33fda8c7",
   "metadata": {},
   "source": [
    "## API Gateway setup"
   ]
  },
  {
   "cell_type": "markdown",
   "id": "6ad18b80",
   "metadata": {},
   "source": [
    "Run the cells below to set the Lambda Function as an Endpoint on API Gateway."
   ]
  },
  {
   "cell_type": "code",
   "execution_count": 26,
   "id": "feea1c1f",
   "metadata": {},
   "outputs": [],
   "source": [
    "def has_api(g_client, rest_api_name_):\n",
    "    response = g_client.get_rest_apis()\n",
    "    create_api_on_gateway = True\n",
    "    \n",
    "    for item in response['items']:\n",
    "        if item['name'] == rest_api_name_:\n",
    "            create_api_on_gateway = False\n",
    "            \n",
    "    return create_api_on_gateway\n",
    "\n",
    "def create_resource(g_client, rest_api_id_):\n",
    "    response = g_client.get_resources(restApiId=rest_api_id_)\n",
    "    root_id = response['items'][0]['id']\n",
    "    \n",
    "    response = gateway_client.create_resource(\n",
    "        restApiId=rest_api_id_,\n",
    "        parentId=root_id,\n",
    "        pathPart=endpoint,\n",
    "    )\n",
    "    \n",
    "    resource_id = response['id']\n",
    "    \n",
    "    return resource_id\n",
    "\n",
    "def create_rest_method(g_client, rest_api_id_, resource_id_, method_verb_):\n",
    "    g_client.put_method(\n",
    "        restApiId=rest_api_id_,\n",
    "        resourceId=resource_id_,\n",
    "        httpMethod=method_verb_,\n",
    "        authorizationType='NONE', # WARNING: this will allow public access!\n",
    "        apiKeyRequired=True,\n",
    "    )\n",
    "\n",
    "def create_rest_api(g_client, rest_api_name_):\n",
    "    description='API Gateway that triggers a lambda function'\n",
    "    response=g_client.create_rest_api(name=rest_api_name_, description=description) \n",
    "    \n",
    "    rest_api_id = response['id']\n",
    "    \n",
    "    return rest_api_id\n",
    "\n",
    "def get_lambda_arn(g_client, function_name_):\n",
    "    response = g_client.get_function(FunctionName=function_name_)\n",
    "    return response['Configuration']['FunctionArn']\n",
    "\n",
    "def setup_integration(g_client, lambda_uri_, rest_api_id_, resource_id_, method_verb_):\n",
    "    g_client.put_integration(\n",
    "        restApiId=rest_api_id_,\n",
    "        resourceId=resource_id_,\n",
    "        httpMethod=method_verb_,\n",
    "        type='AWS_PROXY',\n",
    "        integrationHttpMethod=method_verb_,\n",
    "        uri=lambda_uri_,\n",
    "    )\n",
    "    \n",
    "def create_deployment(g_client, rest_api_id_, stage_):\n",
    "    g_client.create_deployment(restApiId=rest_api_id_, stageName=stage_)\n",
    "    \n",
    "def create_api_key(g_client, rest_api_name_):\n",
    "    response = g_client.create_api_key(\n",
    "        name=rest_api_name_ + '-key',\n",
    "        description='API key',\n",
    "        enabled=True,\n",
    "        generateDistinctId=True\n",
    "    )\n",
    "    \n",
    "    api_key_id = response['id']\n",
    "    api_key_value = response['value']\n",
    "    \n",
    "    return api_key_id, api_key_value\n",
    "\n",
    "def create_usage_plan(g_client, rest_api_id_, stage_, usage_constraints_):\n",
    "    name='API usage plan'\n",
    "    description='Harsh rate limits and daily quota for public facing API'\n",
    "    stages=[\n",
    "        {\n",
    "            'apiId': rest_api_id_,\n",
    "            'stage': stage_,\n",
    "        },\n",
    "    ]\n",
    "    \n",
    "    response = g_client.create_usage_plan(\n",
    "        name=name,\n",
    "        description=description,\n",
    "        apiStages=stages,\n",
    "        throttle=usage_constraints_['rate_limits'],\n",
    "        quota=usage_constraints_['quota']\n",
    "    )\n",
    "    \n",
    "    usage_plan_id = response['id']\n",
    "    \n",
    "    return usage_plan_id\n",
    "\n",
    "def create_usage_plan_key(g_client, usage_plan_id_, api_key_id_):\n",
    "    g_client.create_usage_plan_key(\n",
    "        usagePlanId=usage_plan_id_,\n",
    "        keyId=api_key_id_,\n",
    "        keyType='API_KEY'\n",
    "    )\n",
    "    \n",
    "def add_apigateway_permission(l_client, function_name_, source_arn_):\n",
    "    return l_client.add_permission(\n",
    "        FunctionName=function_name_,\n",
    "        StatementId='apigateway-lambda-invoke-permission',\n",
    "        Action='lambda:InvokeFunction',\n",
    "        Principal='apigateway.amazonaws.com',\n",
    "        SourceArn=source_arn_\n",
    "    )\n",
    "\n",
    "def deploy_rest_api(\\\n",
    "        g_client, l_client, \\\n",
    "        account_id, region, \\\n",
    "        function_name_, rest_api_name_, endpoint_, method_verb_, \\\n",
    "        usage_constraints_, stage_ \\\n",
    "    ):\n",
    "    # First, lets verify whether we already have an endpoint with this name.\n",
    "    if not has_api(g_client, rest_api_name_):\n",
    "\n",
    "        # 1. Create REST API\n",
    "        rest_api_id = create_rest_api(g_client, rest_api_name_)\n",
    "\n",
    "        # 2. Create resource\n",
    "        resource_id=create_resource(g_client, rest_api_id)\n",
    "        \n",
    "        # 3. Create method\n",
    "        create_rest_method(g_client, rest_api_id, resource_id, method_verb_)\n",
    "        \n",
    "        # 4. Get the Lambda function ARN\n",
    "        lambda_arn = get_lambda_arn(l_client, function_name_)\n",
    "\n",
    "        # 5. Set up integration with the Lambda function\n",
    "        lambda_uri = build_lambda_uri(region, lambda_arn)\n",
    "\n",
    "        setup_integration(g_client, lambda_uri, rest_api_id, resource_id, method_verb_)\n",
    "\n",
    "        # 6. Deploy API\n",
    "        create_deployment(g_client, rest_api_id, stage_)\n",
    "\n",
    "        # 7. Create API key\n",
    "        api_key_id, api_key_value = create_api_key(g_client, rest_api_name_)\n",
    "\n",
    "        # 8. Create usage plan\n",
    "        usage_plan_id = create_usage_plan(g_client, rest_api_id, stage_, usage_constraints_)\n",
    "        \n",
    "        # 9. Associate the usage plan with the API key\n",
    "        create_usage_plan_key(g_client, usage_plan_id, api_key_id)\n",
    "        \n",
    "        # 10. Grant API Gateway permission to invoke the Lambda function\n",
    "        source_arn = build_source_arn(region, account_id, rest_api_id)\n",
    "        \n",
    "        try: \n",
    "            add_apigateway_permission(l_client, function_name_, source_arn)\n",
    "        except l_client.exceptions.ResourceConflictException:\n",
    "            pass\n",
    "        \n",
    "        return {\n",
    "            'url': build_api_url(rest_api_id, region, endpoint_, stage_),\n",
    "            'api_key': api_key_value,\n",
    "            'usage_plan_id': usage_plan_id,\n",
    "            'rest_api_id': rest_api_id\n",
    "        }\n",
    "    \n",
    "    else: \n",
    "        failure_msg=f\"REST API name {rest_api_name_} is already under usage!\"\n",
    "        print(failure_msg)\n",
    "        \n",
    "        return {}"
   ]
  },
  {
   "cell_type": "code",
   "execution_count": 27,
   "id": "42bb068e",
   "metadata": {},
   "outputs": [
    {
     "data": {
      "text/plain": [
       "{'url': 'https://qaq2njf3d3.execute-api.sa-east-1.amazonaws.com/test/predict/',\n",
       " 'api_key': 'wGhDa12k9ran6jrLnWwRB3moywsCrHZzaJkxTYhm',\n",
       " 'usage_plan_id': 'p3kvll',\n",
       " 'rest_api_id': 'qaq2njf3d3'}"
      ]
     },
     "execution_count": 27,
     "metadata": {},
     "output_type": "execute_result"
    }
   ],
   "source": [
    "# Define the name of the API (not public facing)\n",
    "rest_api_name = function_name + '-api'\n",
    "\n",
    "deployment_reponse = deploy_rest_api(\\\n",
    "    gateway_client, lambda_client, \\\n",
    "    account_id, region, \\\n",
    "    function_name, rest_api_name, endpoint, method_verb, \\\n",
    "    usage_constraints, stage \\\n",
    ")\n",
    "\n",
    "deployment_reponse"
   ]
  },
  {
   "cell_type": "code",
   "execution_count": 28,
   "id": "5f9cbe4e",
   "metadata": {},
   "outputs": [
    {
     "name": "stdout",
     "output_type": "stream",
     "text": [
      "https://qaq2njf3d3.execute-api.sa-east-1.amazonaws.com/test/predict/\n"
     ]
    }
   ],
   "source": [
    "rest_api_id=deployment_reponse['rest_api_id']\n",
    "\n",
    "# The URL by default will follow this pattern:\n",
    "api_url = build_api_url(rest_api_id, region, endpoint, stage)\n",
    "print(api_url)\n"
   ]
  },
  {
   "cell_type": "code",
   "execution_count": 29,
   "id": "798ed4dc",
   "metadata": {},
   "outputs": [
    {
     "name": "stdout",
     "output_type": "stream",
     "text": [
      "wGhDa12k9ran6jrLnWwRB3moywsCrHZzaJkxTYhm\n",
      "https://qaq2njf3d3.execute-api.sa-east-1.amazonaws.com/test/predict/\n"
     ]
    }
   ],
   "source": [
    "api_key=deployment_reponse['api_key']\n",
    "rest_api_id=deployment_reponse['rest_api_id']\n",
    "\n",
    "# The URL by default will follow this pattern:\n",
    "api_url = build_api_url(rest_api_id, region, endpoint, stage)\n",
    "print(api_key)\n",
    "print(api_url)"
   ]
  },
  {
   "cell_type": "code",
   "execution_count": 30,
   "id": "c29513cd",
   "metadata": {},
   "outputs": [
    {
     "data": {
      "text/plain": [
       "{'message': 'Internal server error'}"
      ]
     },
     "execution_count": 30,
     "metadata": {},
     "output_type": "execute_result"
    }
   ],
   "source": [
    "# Prepare the event to pass to the Lambda function\n",
    "example=[1, 2, 3, 4, 5]\n",
    "\n",
    "# Transform into json format\n",
    "payload=json.dumps({\"body\": example})\n",
    "\n",
    "headers = {\n",
    "    'Content-type': 'application/json', \n",
    "    'x-api-key': api_key,\n",
    "}\n",
    "\n",
    "resp = requests.post(api_url, headers=headers, json=example)\n",
    "resp.json()\n"
   ]
  }
 ],
 "metadata": {
  "kernelspec": {
   "display_name": "Python 3 (ipykernel)",
   "language": "python",
   "name": "python3"
  },
  "language_info": {
   "codemirror_mode": {
    "name": "ipython",
    "version": 3
   },
   "file_extension": ".py",
   "mimetype": "text/x-python",
   "name": "python",
   "nbconvert_exporter": "python",
   "pygments_lexer": "ipython3",
   "version": "3.8.10"
  }
 },
 "nbformat": 4,
 "nbformat_minor": 5
}
